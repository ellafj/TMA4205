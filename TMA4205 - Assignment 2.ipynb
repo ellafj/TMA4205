{
 "cells": [
  {
   "cell_type": "markdown",
   "metadata": {},
   "source": [
    "# Numerical Linear Algebra - Assignment 2"
   ]
  },
  {
   "cell_type": "markdown",
   "metadata": {},
   "source": [
    "## Exercise 1"
   ]
  },
  {
   "cell_type": "markdown",
   "metadata": {},
   "source": [
    "### a)"
   ]
  },
  {
   "cell_type": "markdown",
   "metadata": {},
   "source": [
    "I have that \n",
    "\n",
    "$$ \\tilde{x} = x_0 + V(W^TAV)^{-1}W^Tr_0 $$\n",
    "\n",
    "where $V = V_m$ and $W = AV_m$. From this I expand the equation $ b-A\\tilde{x}$ as such\n",
    "\n",
    "$$\n",
    "\\begin{aligned}\n",
    "b - A \\tilde{x} &= b - A(x_0 + V(W^TAV)^{-1}W^Tr_0) \\\\ &= b - Ax_0 - AV_m(V_m^TA^TAV_M)^{-1}V_m^TA^T r_0 \\\\\n",
    "&= r_0 - AV_m(V_m^TA^TAV_m)^{-1}V_m^TA^Tr_0 \\\\ &= \\beta v_1 - V_{m+1}\\bar{H}_m(\\bar{H}_m^TV_{m+1}^TV_{m+1}\\bar{H}_m)^{-1}\\bar{H}_m^T V_{m+1}^T\\beta v_1 \\\\ &= \\beta v_1 - V_{m+1}\\bar{H}_m(\\bar{H}_m^T\\bar{H}_m)^{-1}\\bar{H}_m^TV_{m+1}^TV_{m+1} \\beta e_1 \\\\ &= V_{m+1}(\\beta e_1 - \\bar{H}_m(\\bar{H}_m^T\\bar{H}_m)^{-1}\\bar{H}_m^T \\beta e_1),\n",
    "\\end{aligned} $$\n",
    "\n",
    "where I've used that $AV_m = V_{m+1}\\bar{H}_m$, $\\space r_0 = \\beta v_1$, and that the column vectors of $V_m$ are orthonormal. I also have that $\\tilde{x} = x_0 + V_my_m$, and by expansion I get that\n",
    "\n",
    "$$\n",
    "\\begin{aligned}\n",
    "b-A\\tilde{x} &= b-A(x_0 + V_my_m) \\\\ &= b-Ax_0-AV_my_m \\\\ &= r_0 - AV_my_m \\\\ &= \\beta v_1 - V_{m+1}\\bar{H}_my_m \\\\ &= V_{m+1}(\\beta e_1 - \\bar{H}_my_m).\n",
    "\\end{aligned}\n",
    "$$\n",
    "\n",
    "By combining these expressions I get that\n",
    "\n",
    "$$\n",
    "\\begin{aligned}\n",
    "V_{m+1}(\\beta e_1 - \\bar{H}_my_m) &= V_{m+1}(\\beta e_1 - \\bar{H}_m(\\bar{H}_m^T\\bar{H}_m)^{-1}\\bar{H}_m^T \\beta e_1) \\\\ \\bar{H}_my_m &= \\bar{H}_m (\\bar{H}_m^T\\bar{H}_m)^{-1}\\bar{H}_m \\beta e_1 \\\\\n",
    "y_m &= (\\bar{H}_m^T\\bar{H}_m)^{-1}\\bar{H}_m\\beta e_1,\n",
    "\\end{aligned}\n",
    "$$\n",
    "\n",
    "which is the solution to the problem \n",
    "\n",
    "$$y_m = \\mathrm{arg}\\min_y ||\\beta e_1 - \\bar{H}_my ||_2. $$"
   ]
  },
  {
   "cell_type": "code",
   "execution_count": null,
   "metadata": {},
   "outputs": [],
   "source": []
  }
 ],
 "metadata": {
  "kernelspec": {
   "display_name": "Python 3",
   "language": "python",
   "name": "python3"
  },
  "language_info": {
   "codemirror_mode": {
    "name": "ipython",
    "version": 3
   },
   "file_extension": ".py",
   "mimetype": "text/x-python",
   "name": "python",
   "nbconvert_exporter": "python",
   "pygments_lexer": "ipython3",
   "version": "3.7.1"
  }
 },
 "nbformat": 4,
 "nbformat_minor": 2
}
