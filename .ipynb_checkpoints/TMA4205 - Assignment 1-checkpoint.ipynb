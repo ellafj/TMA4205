{
 "cells": [
  {
   "cell_type": "markdown",
   "metadata": {},
   "source": [
    "# Numerical Linear Algebra - Assignment 1"
   ]
  },
  {
   "cell_type": "markdown",
   "metadata": {},
   "source": [
    "## Exercise 1"
   ]
  },
  {
   "cell_type": "markdown",
   "metadata": {},
   "source": [
    "### a)"
   ]
  },
  {
   "cell_type": "markdown",
   "metadata": {},
   "source": [
    "Wish to show that $||x||_2 \\leq ||x||_1 \\leq \\sqrt{n} ||x||_2.$\n",
    "\n",
    "$$ ||x||_2^2 = \\sum_{i=1}^n x_i^2 \\leq \\bigg( \\sum_{i=1}^n |x_i| \\bigg)^2 = ||x||_1^2, $$\n",
    "\n",
    "$$ ||x||_1^2 = \\bigg( \\sum_{i=1}^n |x_i| \\bigg)^2 = \\bigg( \\sum_{i=1}^n 1 \\cdot |x_i| \\bigg)^2 \\leq \\bigg( \\sum_{i=1}^n 1^2 \\bigg) \\bigg( \\sum_{i=1}^n x_i^2\\bigg) = n ||x||_2^2.$$\n",
    "\n",
    "Combined this becomes\n",
    "\n",
    "$$||x||_2 \\leq ||x||_1 \\leq \\sqrt{n} ||x||_2,$$\n",
    "\n",
    "which is what I wished to show."
   ]
  },
  {
   "cell_type": "markdown",
   "metadata": {},
   "source": [
    "### b)"
   ]
  },
  {
   "cell_type": "markdown",
   "metadata": {},
   "source": [
    "Wish to show that $||x||_\\infty \\leq ||x||_2 \\leq \\sqrt{n} ||x||_\\infty.$\n",
    "\n",
    "$$ ||x||_\\infty = \\max_{1 \\leq i \\leq n} |x_i| = \\max_{1 \\leq i \\leq n} \\sqrt{x_i^2} \\leq \\bigg( \\sum_{i=1}^n x_i^2 \\bigg)^{1/2} = ||x||_2,$$\n",
    "\n",
    "$$ ||x||_2^2 = \\sum_{i=1}^2 x_i^2 \\leq \\sum_{i=1}^n \\max_{1 \\leq i \\leq n} x_i^2 = n \\cdot \\bigg(\\max_{1 \\leq i \\leq n} |x_i| \\bigg)^2 = n ||x||_\\infty^2.$$\n",
    "\n",
    "Thus,\n",
    "\n",
    "$$||x||_\\infty \\leq ||x||_2 \\leq \\sqrt{n} ||x||_\\infty.$$"
   ]
  },
  {
   "cell_type": "markdown",
   "metadata": {},
   "source": [
    "### c)"
   ]
  },
  {
   "cell_type": "markdown",
   "metadata": {},
   "source": [
    "Wish to show that $ ||x||_\\infty \\leq ||x||_1 \\leq n ||x||_\\infty $.\n",
    "\n",
    "$$ ||x||_\\infty = \\max_{1 \\leq i \\leq n} |x_i| \\leq \\sum_{i=1}^n |x_i| = ||x||_1, $$\n",
    "\n",
    "$$ ||x||_2^2 = \\sum_{i=1}^n |x_i| \\leq \\sum_{i=1}^n \\max_{1 \\leq i \\leq n} |x_i| = n \\cdot \\max_{1 \\leq i \\leq n} |x_i| = n||x||_\\infty. $$\n",
    "\n",
    "Thus,\n",
    "\n",
    "$$ ||x||_\\infty \\leq ||x||_1 \\leq n ||x||_\\infty .$$"
   ]
  },
  {
   "cell_type": "markdown",
   "metadata": {},
   "source": [
    "## Exercise 2"
   ]
  },
  {
   "cell_type": "markdown",
   "metadata": {},
   "source": [
    "For a matrix $A \\in \\mathbb{R}^{m\\times n} $, the p-norm is \n",
    "\n",
    "$$ ||A||_p = \\sup_{x \\neq 0} \\frac{||Ax||_p}{||x||_p} = \\max_{||x||_p = 1} ||Ax||_p.$$\n",
    "\n",
    "Thus,\n",
    "\n",
    "$$ \n",
    "\\begin{align} \n",
    "||A||_1 &= \\max_{||x||_1 = 1} ||Ax||_1 = \\max_{||x||_1 = 1} \\sum_{i=1}^m \\bigg| \\sum_{j=1}^n a_{ij} x_j \\bigg|  \\leq \\max_{||x||_1 = 1} \\sum_{i=1}^m \\sum_{j=1}^n | a_{ij} x_j | \\\\ &= \\max_{||x||_1 = 1} \\sum_{j=1}^n |x_j| \\sum_{i=1}^m |a_{ij} | = \\max_{||x||_1 = 1} ||x||_1 \\sum_{i=1}^m |a_{ij} | = \\max_{1 \\leq j \\leq n} \\sum_{i=1}^m |a_{ij} |.\n",
    "\\end{align}\n",
    "$$\n",
    "\n",
    "Since\n",
    "\n",
    "$$ ||Ae_k||_1 = \\sum_{i=1}^m |a_{ik}| = \\max_{1 \\leq j \\leq n} \\sum_{i=1}^m |a_{ij}|, $$\n",
    "\n",
    "where $e_k$ is the vector $e_k = (0,0,\\dots,1,0, \\dots, 0)$ with 1 at the k'th position, then\n",
    "\n",
    "$$ \\max_{||e_k|| = 1} ||Ae_k|| \\geq ||A_1||. $$\n",
    "\n",
    "Combined this becomes\n",
    "\n",
    "$$ ||A||_1 = \\max_{1 \\leq j \\leq n} \\sum_{i=1}^m |a_{ij}|, $$\n",
    "\n",
    "which is the first thing I wished to show.\n",
    "\n",
    "Also, I have that \n",
    "\n",
    "$$ \n",
    "\\begin{align}\n",
    "    ||A||_\\infty &= \\max_{||x||_\\infty = 1} ||Ax||_\\infty = \\max_{||x||_\\infty = 1} \\max_{1 \\leq i \\leq m} \\bigg| \\sum_{j=1}^n a_{ij} x_j \\bigg| = \\max_{1 \\leq i \\leq m} \\max_{||x||_\\infty = 1} \\bigg| \\sum_{j=1}^n a_{ij} x_j \\bigg|  \\\\ &=  \\max_{1 \\leq i \\leq m} \\max_{||x||_\\infty = 1} ||x||_\\infty \\sum_{j=1}^n |a_{ij}| = \\max_{1 \\leq i \\leq m} \\sum_{j=1}^n |a_{ij}|.\n",
    "\\end{align}\n",
    "$$\n",
    "\n",
    "So,\n",
    "\n",
    "$$ ||A||_\\infty  \\leq \\max_{1 \\leq i \\leq m} \\sum_{j=1}^n |a_{ij}|. $$"
   ]
  },
  {
   "cell_type": "markdown",
   "metadata": {},
   "source": [
    "## Exercise 3"
   ]
  },
  {
   "cell_type": "markdown",
   "metadata": {},
   "source": [
    "I have that $ \\rho (A) = \\max_{\\lambda \\in \\sigma(A)} |\\lambda|$, where $\\sigma (A) = \\{ \\lambda \\in \\mathbb{C} | \\lambda \\space \\mathrm{eigenvalues \\space of} \\space A \\}$. From this I know that\n",
    "\n",
    "$$ Av = \\lambda v, \\quad v \\in \\mathbb{C}. $$\n",
    "\n",
    "Thus by Cauchy-Schwartz, \n",
    "\n",
    "$$ |\\lambda| \\cdot ||v|| = || \\lambda v|| = ||Av|| \\leq ||A|| \\cdot ||v||, $$\n",
    "\n",
    "which for $||v|| \\neq 0$ becomes $|\\lambda| \\leq ||A||$. As this holds for all $\\lambda$ eigenvalues of $A$, then\n",
    "\n",
    "$$ \\rho(A) = \\max_{\\lambda \\in \\sigma(A)} |\\lambda| \\leq ||A|| $$"
   ]
  },
  {
   "cell_type": "markdown",
   "metadata": {},
   "source": [
    "## Exercise 4"
   ]
  },
  {
   "cell_type": "markdown",
   "metadata": {},
   "source": [
    "### a)"
   ]
  },
  {
   "cell_type": "markdown",
   "metadata": {},
   "source": [
    "I now wish to show that $||E||_2 = ||u||_2||v||_2$, where $E = uv^T$ and $u,v \\in \\mathbb{R}$. I start by showing that\n",
    "\n",
    "$$ ||E||_2 = ||uv^T||_2 = \\max_{||x||_2 = 1} ||uv^Tx||_2,$$\n",
    "\n",
    "and since $v^Tx \\in \\mathbb{R}$ this can be written as\n",
    "\n",
    "$$ ||E||_2 = ||u||_2 \\max_{||x||_2 = 1} |v^Tx| = ||u||_2 \\max_{||x||_2 = 1} \\langle x,v \\rangle.$$\n",
    "\n",
    "As $\\langle x,v \\rangle$ is maximized when $x||v$ and I have the criteria that $||x||_2 = 1$, I know that \n",
    "\n",
    "$$ \\max_{||x||_2 = 1} \\langle x,v \\rangle = \\frac{\\langle v,v \\rangle}{||v||_2}. $$\n",
    "\n",
    "Thus,\n",
    "\n",
    "$$ ||E||_2 = ||u||_2 \\frac{\\langle v,v \\rangle}{||v||_2} = ||u||_2 \\frac{||v||_2^2}{||v||_2} = ||u||_2||v||_2 $$"
   ]
  },
  {
   "cell_type": "markdown",
   "metadata": {},
   "source": [
    "### b)"
   ]
  },
  {
   "cell_type": "markdown",
   "metadata": {},
   "source": [
    "Since the Frobenius norm and the 2-norm follows the same logic for vectors, the argumentation in $\\textit{a)}$ will also hold for this problem, leading to\n",
    "\n",
    "$$ ||E||_F = \\max_{||x||_F = 1} ||uv^Tx||_F  = ||u||_F \\max_{||x||_F = 1} \\langle x,v \\rangle  = ||u||_F \\frac{\\langle v,v \\rangle}{||v||_F} = ||u||_F||v||_F. $$"
   ]
  },
  {
   "cell_type": "markdown",
   "metadata": {},
   "source": [
    "## Exercise 5"
   ]
  },
  {
   "cell_type": "markdown",
   "metadata": {},
   "source": [
    "$A$ is a strictly diagonally dominant matrix, thus fulfilling the criteria $ |a_{ij}| > \\sum_{j \\neq i} |a_{ij}|$"
   ]
  },
  {
   "cell_type": "markdown",
   "metadata": {},
   "source": [
    "### a)"
   ]
  },
  {
   "cell_type": "markdown",
   "metadata": {},
   "source": [
    "In Exercise 2 i proved that $ ||A||_\\infty = \\max_i \\sum_j |a_{ij}| $. Using this property I get that\n",
    "\n",
    "$$ ||A||_\\infty = \\max_i \\sum_j |a_{ij}| = \\max_i \\bigg( |a_{ii}| + \\sum_{j \\neq i} |a_{ij}| \\bigg) = \\max_i |a_{ii}| \\bigg( 1 + \\frac{\\sum_{j \\neq i} |a_{ij}|}{|a_{ii}|} \\bigg) = \\max_i |a_{ii}| \\space ( 1 + \\alpha_i ), $$\n",
    "\n",
    "where $\\alpha_i = \\frac{\\sum_{j \\neq i} |a_{ij}|}{|a_{ii}|} $."
   ]
  },
  {
   "cell_type": "markdown",
   "metadata": {},
   "source": [
    "### b)"
   ]
  },
  {
   "cell_type": "markdown",
   "metadata": {},
   "source": [
    "I wish to prove that $||A||_\\infty^{-1} \\leq \\frac{1}{\\min_i |a_{ii}| (1-\\alpha_i)} = \\frac{1}{\\beta}$. I start by showing that\n",
    "\n",
    "$$ ||A^{-1}||_\\infty = \\sup_{x \\neq 0} \\frac{||A^{-1}x||_\\infty}{||x||_\\infty} = \\sup_{Ax \\neq 0} \\frac{||A^{-1}Ax||_\\infty}{||Ax||_\\infty} = \\sup_{Ax \\neq 0} \\frac{||x||_\\infty}{||Ax||_\\infty} = \\sup_{x \\neq 0} \\frac{||x||_\\infty}{||Ax||_\\infty} = \\bigg( \\bigg( \\sup_{x \\neq 0} \\frac{||x||_\\infty}{||Ax||_\\infty} \\bigg)^{-1} \\bigg)^{-1} = \\bigg( \\inf_{x \\neq 0} \\frac{||Ax||}{||x||} \\bigg)^{-1},$$\n",
    "\n",
    "which leads to\n",
    "\n",
    "$$ ||A^{-1}||_\\infty^{-1} = \\inf_{x \\neq 0} \\frac{||Ax||_\\infty}{||x||_\\infty}. $$\n",
    "\n",
    "Now I know that if $||A^{-1}||_\\infty$ is bounded by $1/\\beta$, then $\\beta ||x||_\\infty \\leq ||Ax||_\\infty$ must be satisfied. Since I know that\n",
    "\n",
    "$$ \\beta = \\min_i \\bigg( |a_{ii}| - \\sum_{j \\neq i} |a_{ij}| \\bigg)  \\leq |a_{ii}| - \\sum_{j \\neq i} |a_{ij}|,$$\n",
    "\n",
    "one can write that\n",
    "\n",
    "$$ \\beta |x_i| \\leq |a_{ii}| - \\sum_{j \\neq i} |a_{ij}|\\space |x_j| \\leq |a_{ii}| - \\bigg| \\sum_{j \\neq i} a_{ij} x_j \\bigg| \\leq \\bigg| \\sum_{j \\neq i} a_{ij} x_j \\bigg| \\leq \\max_i  \\bigg| \\sum_{j \\neq i} a_{ij} x_j \\bigg| = ||Ax||_\\infty,$$\n",
    "\n",
    "for some vector $x$ that satisfies $|x_i| = ||x||_\\infty$. Thus, I have proved $A$ is indeed bounded as\n",
    "\n",
    "$$ ||A||_\\infty^{-1} \\leq \\frac{1}{\\min_i |a_{ii}| (1-\\alpha_i)}. $$\n",
    "\n",
    "I also wish to prove the bound $\\kappa_\\infty(A) \\leq \\tilde{\\kappa}(A) := \\frac{\\max_i |a_{ii}| (1+\\alpha_i)}{\\min_i |a_{ii}|(1-\\alpha_i)}$. I have from definition that\n",
    "\n",
    "$$ \\kappa_\\infty(A) = ||A||_\\infty ||A^{-1}||_\\infty. $$\n",
    "\n",
    "Combined with the expressios for $||A||_\\infty$ and $||A^{-1}||_\\infty$ as calculated above, this becomes\n",
    "\n",
    "$$ \\kappa_\\infty(A) = ||A||_\\infty ||A^{-1}||_\\infty \\leq \\max_i |a_{ii}| \\space ( 1 + \\alpha_i ) \\cdot \\frac{1}{\\min_i |a_{ii}| (1-\\alpha_i)} = \\frac{\\max_i |a_{ii}| (1+\\alpha_i)}{\\min_i |a_{ii}|(1-\\alpha_i)} = \\tilde{\\kappa}(A)$$"
   ]
  },
  {
   "cell_type": "markdown",
   "metadata": {},
   "source": [
    "### c)"
   ]
  },
  {
   "cell_type": "markdown",
   "metadata": {},
   "source": []
  },
  {
   "cell_type": "markdown",
   "metadata": {},
   "source": [
    "## Exercise 6"
   ]
  },
  {
   "cell_type": "code",
   "execution_count": 81,
   "metadata": {},
   "outputs": [
    {
     "name": "stdout",
     "output_type": "stream",
     "text": [
      "[[-4.  1. -0.  1. -0. -0. -0. -0. -0.]\n",
      " [ 1. -4.  1. -0.  1. -0. -0. -0. -0.]\n",
      " [-0.  1. -4.  0. -0.  1. -0. -0. -0.]\n",
      " [ 1. -0.  0. -4.  1. -0.  1. -0. -0.]\n",
      " [-0.  1. -0.  1. -4.  1. -0.  1. -0.]\n",
      " [-0. -0.  1. -0.  1. -4.  0. -0.  1.]\n",
      " [-0. -0. -0.  1. -0.  0. -4.  1. -0.]\n",
      " [-0. -0. -0. -0.  1. -0.  1. -4.  1.]\n",
      " [-0. -0. -0. -0. -0.  1. -0.  1. -4.]]\n"
     ]
    }
   ],
   "source": [
    "import numpy as np   \n",
    "import numpy.linalg as la   \n",
    "import matplotlib.pyplot as plt \n",
    "from scipy import sparse\n",
    "from scipy.sparse.linalg import spsolve\n",
    "from scipy.sparse.linalg import inv\n",
    "from scipy.sparse.linalg import spilu\n",
    "from matplotlib import cm\n",
    "import time\n",
    "\n",
    "def A_laplace(M):\n",
    "    M2 = M**2\n",
    "    A = -4*np.eye(M2)           \n",
    "    for i in range(M2-1):\n",
    "        A[i,i+1] = 1\n",
    "        A[i+1,i] = 1\n",
    "    for i in range(M-1,M2-1,M):\n",
    "        A[i,i+1] = 0\n",
    "        A[i+1,i] = 0\n",
    "    for i in range(M2-M):     \n",
    "        A[i,i+M] = 1\n",
    "        A[i+M,i] = 1\n",
    "    return A\n",
    "\n",
    "print(A_laplace(3))"
   ]
  },
  {
   "cell_type": "code",
   "execution_count": 198,
   "metadata": {},
   "outputs": [
    {
     "name": "stdout",
     "output_type": "stream",
     "text": [
      "jacobi\n",
      "forward_gauss_seidel\n",
      "successive_over_relaxation\n",
      "incomplete_LU\n"
     ]
    },
    {
     "data": {
      "image/png": "[encoded data removed]",
      "text/plain": [
       "<Figure size 432x288 with 1 Axes>"
      ]
     },
     "metadata": {
      "needs_background": "light"
     },
     "output_type": "display_data"
    }
   ],
   "source": [
    "def initialize(M, method, omega):\n",
    "    TOL = 10\n",
    "    M2 = M**2\n",
    "    A = A_laplace(M)\n",
    "    # Source function\n",
    "    def f_func(x, y): \n",
    "        return np.exp(-50*((x-1/2)**2 + (y-1/2)**2))\n",
    "    \n",
    "    f = np.zeros((M, M))\n",
    "    for i in range(M):\n",
    "        for j in range(M):\n",
    "            f[i][j] = (1/M)**2 * f_func((i-1)/(M-1), (j-1)/(M-1))\n",
    "    f = np.reshape(f,(M2,1))\n",
    "    f = np.asarray(f).reshape(-1)\n",
    "    \n",
    "    As = sparse.csc_matrix(A)\n",
    "    Ds = sparse.csc_matrix(np.diag(np.diag(A)))\n",
    "    Es = sparse.tril(A, k=-1, format='csc')\n",
    "    #print(Es.toarray())\n",
    "    \n",
    "    def initialize_method(method): # Necessary with function here?\n",
    "        print(method)\n",
    "        x = 0\n",
    "        if method == 'jacobi':\n",
    "            Ms = Ds\n",
    "        if method == 'forward_gauss_seidel':\n",
    "            Ms = Ds + Es\n",
    "        if method == 'successive_over_relaxation':\n",
    "            Ms = 1/omega * Ds + Es\n",
    "        if method == 'incomplete_LU':\n",
    "            ILU = spilu(A)   #z[M.perm-c]=x\n",
    "            L = ILU.L.A\n",
    "            U = ILU.U.A\n",
    "            #Ms = L.dot(U)\n",
    "            #x = np.zeros(M**2)\n",
    "            #x[ILU.perm_c] = M**2\n",
    "            #x = L.dot(U.dot(x))\n",
    "            #x = x[ILU.perm_r]\n",
    "            #Ms = ILU.dot(x)\n",
    "            #z = np.zeros(M**2)\n",
    "            #z[Ms.perm_c] = M**2\n",
    "            #z = Ms.L.dot(Ms.U.dot(z))\n",
    "            #z = z[Ms.perm_r]\n",
    "            #print('z', z)\n",
    "            #Ms = z\n",
    "            #Ls = sparse.csc_matrix(Ms.L.A)\n",
    "            #Us = sparse.csc_matrix(Ms.U.A)\n",
    "            \n",
    "            Pr = sparse.csc_matrix((M2, M2))\n",
    "            Pr[ILU.perm_r, np.arange(M2)] = 1\n",
    "            Pc = sparse.csc_matrix((M2, M2))\n",
    "            Pc[np.arange(M2), ILU.perm_c] = 1\n",
    "            \n",
    "            Ms = (Pr.T * (ILU.L * ILU.U) * Pc.T).A\n",
    "            #print('Ms', Ms)\n",
    "            \n",
    "            \n",
    "            \n",
    "        Ns = Ms - As\n",
    "        #print('Ns',Ns)#.toarray())\n",
    "        return Ms, Ns\n",
    "    \n",
    "    Ms, Ns = initialize_method(method)\n",
    "    \n",
    "    u_exact = spsolve(As,f)\n",
    "    \n",
    "    return A, f, As, Ds, Ms, Ns, u_exact, TOL\n",
    "\n",
    "def iterate(M, method, omega=0):\n",
    "    start = time.time()\n",
    "    A, f, As, Ds, Ms, Ns, u_exact, TOL = initialize(M, method, omega)\n",
    "    residuals = []\n",
    "    x = []\n",
    "    i = 0\n",
    "\n",
    "    u = np.zeros(M**2)\n",
    "    \n",
    "    while TOL > 10**(-10):\n",
    "        lhs = np.ravel((Ns.dot(u) + f))\n",
    "        u = spsolve(Ms, lhs)\n",
    "        TOL = la.norm(u_exact - u,2)\n",
    "        residuals.append(TOL)\n",
    "        i += 1\n",
    "        x.append(i)\n",
    "    end = time.time()\n",
    "    used_time = end - start\n",
    "    return u, u_exact, residuals, x, used_time\n",
    "\n",
    "M = 35\n",
    "omega = 1.5\n",
    "\n",
    "J_u, u_exact, J_residuals, J_x, J_used_time = iterate(M, 'jacobi')\n",
    "#print('J_x:', J_x[-1])\n",
    "FGS_u, u_exact, FGS_residuals, FGS_x, FGS_used_time = iterate(M, 'forward_gauss_seidel')\n",
    "#print('FGS_x:', FGS_x[-1])\n",
    "SOR_u, u_exact, SOR_residuals, SOR_x, SOR_used_time = iterate(M, 'successive_over_relaxation', omega) \n",
    "#print('SOR_x:', SOR_x[-1])\n",
    "ILU_u, u_exact, ILU_residuals, ILU_x, ILU_used_time = iterate(M, 'incomplete_LU')\n",
    "      \n",
    "# Error plot\n",
    "#plt.semilogy(J_x, J_residuals, label='Jacobi method, time: '+str(round(J_used_time,5)))\n",
    "#plt.semilogy(FGS_x, FGS_residuals, label='Forward Gauss-Seidel method, time: '+str(round(FGS_used_time, 5)))\n",
    "#plt.semilogy(SOR_x, SOR_residuals, label='Successive over relaxation, time: '+str(round(SOR_used_time, 5)))\n",
    "plt.semilogy(ILU_x, ILU_residuals, label='Incomplete LU factorization')\n",
    "plt.xlabel('Number of steps')\n",
    "plt.ylabel('Error norm')\n",
    "plt.legend()\n",
    "plt.show()\n",
    "\n"
   ]
  },
  {
   "cell_type": "code",
   "execution_count": null,
   "metadata": {},
   "outputs": [],
   "source": []
  }
 ],
 "metadata": {
  "kernelspec": {
   "display_name": "Python 3",
   "language": "python",
   "name": "python3"
  },
  "language_info": {
   "codemirror_mode": {
    "name": "ipython",
    "version": 3
   },
   "file_extension": ".py",
   "mimetype": "text/x-python",
   "name": "python",
   "nbconvert_exporter": "python",
   "pygments_lexer": "ipython3",
   "version": "3.7.1"
  }
 },
 "nbformat": 4,
 "nbformat_minor": 2
}
