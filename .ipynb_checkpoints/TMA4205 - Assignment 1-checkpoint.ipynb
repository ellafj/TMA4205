{
 "cells": [
  {
   "cell_type": "markdown",
   "metadata": {},
   "source": [
    "# Numerical Linear Algebra - Assignment 1"
   ]
  },
  {
   "cell_type": "markdown",
   "metadata": {},
   "source": [
    "## Exercise 1"
   ]
  },
  {
   "cell_type": "markdown",
   "metadata": {},
   "source": [
    "### a)"
   ]
  },
  {
   "cell_type": "markdown",
   "metadata": {},
   "source": [
    "Wish to show that $||x||_2 \\leq ||x||_1 \\leq \\sqrt{n} ||x||_2.$\n",
    "\n",
    "$$ ||x||_2^2 = \\sum_{i=1}^n x_i^2 \\leq \\bigg( \\sum_{i=1}^n |x_i| \\bigg)^2 = ||x||_1^2, $$\n",
    "\n",
    "$$ ||x||_1^2 = \\bigg( \\sum_{i=1}^n |x_i| \\bigg)^2 = \\bigg( \\sum_{i=1}^n 1 \\cdot |x_i| \\bigg)^2 \\leq \\bigg( \\sum_{i=1}^n 1^2 \\bigg) \\bigg( \\sum_{i=1}^n x_i^2\\bigg) = n ||x||_2^2.$$\n",
    "\n",
    "Combined this becomes\n",
    "\n",
    "$$||x||_2 \\leq ||x||_1 \\leq \\sqrt{n} ||x||_2,$$\n",
    "\n",
    "which is what I wished to show."
   ]
  },
  {
   "cell_type": "markdown",
   "metadata": {},
   "source": [
    "### b)"
   ]
  },
  {
   "cell_type": "markdown",
   "metadata": {},
   "source": [
    "Wish to show that $||x||_\\infty \\leq ||x||_2 \\leq \\sqrt{n} ||x||_\\infty.$\n",
    "\n",
    "$$ ||x||_\\infty = \\max_{1 \\leq i \\leq n} |x_i| = \\max_{1 \\leq i \\leq n} \\sqrt{x_i^2} \\leq \\bigg( \\sum_{i=1}^n x_i^2 \\bigg)^{1/2} = ||x||_2,$$\n",
    "\n",
    "$$ ||x||_2^2 = \\sum_{i=1}^2 x_i^2 \\leq \\sum_{i=1}^n \\max_{1 \\leq i \\leq n} x_i^2 = n \\cdot \\bigg(\\max_{1 \\leq i \\leq n} |x_i| \\bigg)^2 = n ||x||_\\infty^2.$$\n",
    "\n",
    "Thus,\n",
    "\n",
    "$$||x||_\\infty \\leq ||x||_2 \\leq \\sqrt{n} ||x||_\\infty.$$"
   ]
  },
  {
   "cell_type": "markdown",
   "metadata": {},
   "source": [
    "### c)"
   ]
  },
  {
   "cell_type": "markdown",
   "metadata": {},
   "source": [
    "Wish to show that $ ||x||_\\infty \\leq ||x||_1 \\leq n ||x||_\\infty $.\n",
    "\n",
    "$$ ||x||_\\infty = \\max_{1 \\leq i \\leq n} |x_i| \\leq \\sum_{i=1}^n |x_i| = ||x||_1, $$\n",
    "\n",
    "$$ ||x||_2^2 = \\sum_{i=1}^n |x_i| \\leq \\sum_{i=1}^n \\max_{1 \\leq i \\leq n} |x_i| = n \\cdot \\max_{1 \\leq i \\leq n} |x_i| = n||x||_\\infty. $$\n",
    "\n",
    "Thus,\n",
    "\n",
    "$$ ||x||_\\infty \\leq ||x||_1 \\leq n ||x||_\\infty .$$"
   ]
  },
  {
   "cell_type": "markdown",
   "metadata": {},
   "source": [
    "## Exercise 2"
   ]
  },
  {
   "cell_type": "markdown",
   "metadata": {},
   "source": [
    "For a matrix $A \\in \\mathbb{R}^{m\\times n} $, the p-norm is \n",
    "\n",
    "$$ ||A||_p = \\sup_{x \\neq 0} \\frac{||Ax||_p}{||x||_p} = \\max_{||x||_p = 1} ||Ax||_p.$$\n",
    "\n",
    "Thus,\n",
    "\n",
    "$$ \n",
    "\\begin{align} \n",
    "||A||_1 &= \\max_{||x||_1 = 1} ||Ax||_1 = \\max_{||x||_1 = 1} \\sum_{i=1}^m \\bigg| \\sum_{j=1}^n a_{ij} x_j \\bigg|  \\leq \\max_{||x||_1 = 1} \\sum_{i=1}^m \\sum_{j=1}^n | a_{ij} x_j | \\\\ &= \\max_{||x||_1 = 1} \\sum_{j=1}^n |x_j| \\sum_{i=1}^m |a_{ij} | = \\max_{||x||_1 = 1} ||x||_1 \\sum_{i=1}^m |a_{ij} | = \\max_{1 \\leq j \\leq n} \\sum_{i=1}^m |a_{ij} |.\n",
    "\\end{align}\n",
    "$$\n",
    "\n",
    "Since\n",
    "\n",
    "$$ ||Ae_k||_1 = \\sum_{i=1}^m |a_{ik}| = \\max_{1 \\leq j \\leq n} \\sum_{i=1}^m |a_{ij}|, $$\n",
    "\n",
    "where $e_k$ is the vector $e_k = (0,0,\\dots,1,0, \\dots, 0)$ with 1 at the k'th position, then\n",
    "\n",
    "$$ \\max_{||e_k|| = 1} ||Ae_k|| \\geq ||A_1||. $$\n",
    "\n",
    "Combined this becomes\n",
    "\n",
    "$$ ||A||_1 = \\max_{1 \\leq j \\leq n} \\sum_{i=1}^m |a_{ij}|, $$\n",
    "\n",
    "which is the first thing I wished to show.\n",
    "\n",
    "Also, I have that \n",
    "\n",
    "$$ \n",
    "\\begin{align}\n",
    "    ||A||_\\infty &= \\max_{||x||_\\infty = 1} ||Ax||_\\infty = \\max_{||x||_\\infty = 1} \\max_{1 \\leq i \\leq m} \\bigg| \\sum_{j=1}^n a_{ij} x_j \\bigg| = \\max_{1 \\leq i \\leq m} \\max_{||x||_\\infty = 1} \\bigg| \\sum_{j=1}^n a_{ij} x_j \\bigg|  \\\\ &=  \\max_{1 \\leq i \\leq m} \\max_{||x||_\\infty = 1} ||x||_\\infty \\sum_{j=1}^n |a_{ij}| = \\max_{1 \\leq i \\leq m} \\sum_{j=1}^n |a_{ij}|.\n",
    "\\end{align}\n",
    "$$\n",
    "\n",
    "So,\n",
    "\n",
    "$$ ||A||_\\infty  \\leq \\max_{1 \\leq i \\leq m} \\sum_{j=1}^n |a_{ij}|. $$"
   ]
  },
  {
   "cell_type": "markdown",
   "metadata": {},
   "source": [
    "## Exercise 3"
   ]
  },
  {
   "cell_type": "markdown",
   "metadata": {},
   "source": [
    "I have that $ \\rho (A) = \\max_{\\lambda \\in \\sigma(A)} |\\lambda|$, where $\\sigma (A) = \\{ \\lambda \\in \\mathbb{C} | \\lambda \\space \\mathrm{eigenvalues \\space of} \\space A \\}$. From this I know that\n",
    "\n",
    "$$ Av = \\lambda v, \\quad v \\in \\mathbb{C}. $$\n",
    "\n",
    "Thus, \n",
    "\n",
    "$$ |\\lambda| \\cdot ||v|| = || \\lambda v|| = ||Av|| \\leq ||A|| \\cdot ||v||, $$\n",
    "\n",
    "which for $||v|| \\neq 0$ becomes $|\\lambda| \\leq ||A||$. As this holds for all $\\lambda$ eigenvalues of $A$, then\n",
    "\n",
    "$$ \\rho(A) = \\max_{\\lambda \\in \\sigma(A)} |\\lambda| \\leq ||A|| $$"
   ]
  },
  {
   "cell_type": "markdown",
   "metadata": {},
   "source": [
    "## Exercise 4"
   ]
  },
  {
   "cell_type": "markdown",
   "metadata": {},
   "source": []
  },
  {
   "cell_type": "markdown",
   "metadata": {},
   "source": [
    "## Exercise 5"
   ]
  },
  {
   "cell_type": "markdown",
   "metadata": {},
   "source": [
    "### a)"
   ]
  },
  {
   "cell_type": "markdown",
   "metadata": {},
   "source": []
  },
  {
   "cell_type": "markdown",
   "metadata": {},
   "source": [
    "### b)"
   ]
  },
  {
   "cell_type": "markdown",
   "metadata": {},
   "source": []
  },
  {
   "cell_type": "markdown",
   "metadata": {},
   "source": [
    "### c)"
   ]
  },
  {
   "cell_type": "markdown",
   "metadata": {},
   "source": []
  },
  {
   "cell_type": "markdown",
   "metadata": {},
   "source": [
    "## Exercise 6"
   ]
  },
  {
   "cell_type": "code",
   "execution_count": 43,
   "metadata": {},
   "outputs": [
    {
     "name": "stdout",
     "output_type": "stream",
     "text": [
      "[[-4.  1. -0.  1. -0. -0. -0. -0. -0.]\n",
      " [ 1. -4.  1. -0.  1. -0. -0. -0. -0.]\n",
      " [-0.  1. -4.  0. -0.  1. -0. -0. -0.]\n",
      " [ 1. -0.  0. -4.  1. -0.  1. -0. -0.]\n",
      " [-0.  1. -0.  1. -4.  1. -0.  1. -0.]\n",
      " [-0. -0.  1. -0.  1. -4.  0. -0.  1.]\n",
      " [-0. -0. -0.  1. -0.  0. -4.  1. -0.]\n",
      " [-0. -0. -0. -0.  1. -0.  1. -4.  1.]\n",
      " [-0. -0. -0. -0. -0.  1. -0.  1. -4.]]\n"
     ]
    }
   ],
   "source": [
    "import numpy as np   \n",
    "import numpy.linalg as la   \n",
    "import matplotlib.pyplot as plt \n",
    "from scipy import sparse\n",
    "from scipy.sparse.linalg import spsolve\n",
    "from scipy.sparse.linalg import inv\n",
    "from matplotlib import cm\n",
    "\n",
    "def A_laplace(M):\n",
    "    M2 = M**2\n",
    "    A = -4*np.eye(M2)           \n",
    "    for i in range(M2-1):\n",
    "        A[i,i+1] = 1\n",
    "        A[i+1,i] = 1\n",
    "    for i in range(M-1,M2-1,M):\n",
    "        A[i,i+1] = 0\n",
    "        A[i+1,i] = 0\n",
    "    for i in range(M2-M):     \n",
    "        A[i,i+M] = 1\n",
    "        A[i+M,i] = 1\n",
    "    return A\n",
    "\n",
    "print(A_laplace(3))"
   ]
  },
  {
   "cell_type": "code",
   "execution_count": 48,
   "metadata": {},
   "outputs": [
    {
     "name": "stdout",
     "output_type": "stream",
     "text": [
      "[[0. 0. 0. 0. 0. 0. 0. 0. 0.]\n",
      " [1. 0. 0. 0. 0. 0. 0. 0. 0.]\n",
      " [0. 1. 0. 0. 0. 0. 0. 0. 0.]\n",
      " [1. 0. 0. 0. 0. 0. 0. 0. 0.]\n",
      " [0. 1. 0. 1. 0. 0. 0. 0. 0.]\n",
      " [0. 0. 1. 0. 1. 0. 0. 0. 0.]\n",
      " [0. 0. 0. 1. 0. 0. 0. 0. 0.]\n",
      " [0. 0. 0. 0. 1. 0. 1. 0. 0.]\n",
      " [0. 0. 0. 0. 0. 1. 0. 1. 0.]]\n",
      "successive_over_relaxation\n",
      "[[-4. -1.  0. -1.  0.  0.  0.  0.  0.]\n",
      " [ 0. -4. -1.  0. -1.  0.  0.  0.  0.]\n",
      " [ 0.  0. -4.  0.  0. -1.  0.  0.  0.]\n",
      " [ 0.  0.  0. -4. -1.  0. -1.  0.  0.]\n",
      " [ 0.  0.  0.  0. -4. -1.  0. -1.  0.]\n",
      " [ 0.  0.  0.  0.  0. -4.  0.  0. -1.]\n",
      " [ 0.  0.  0.  0.  0.  0. -4. -1.  0.]\n",
      " [ 0.  0.  0.  0.  0.  0.  0. -4. -1.]\n",
      " [ 0.  0.  0.  0.  0.  0.  0.  0. -4.]]\n",
      "10\n",
      "0.026546002687928477\n",
      "0.020097202828221618\n",
      "0.015850042547527685\n",
      "0.012780797224626928\n",
      "0.010431035190666063\n",
      "0.008567718587602404\n",
      "0.007059068252560674\n",
      "0.005823130485421423\n",
      "0.00480437869175573\n",
      "0.0039623451321251545\n",
      "0.003265835721360731\n",
      "0.002689866090697421\n",
      "0.002213956999593491\n",
      "0.0018211162948645276\n",
      "0.0014971719755937818\n",
      "0.0012302907148213885\n",
      "0.0010106014810615062\n",
      "0.0008298858039814952\n",
      "0.0006813160826633178\n",
      "0.0005592323129939787\n",
      "0.00045895145776381517\n",
      "0.00037660525563153316\n",
      "0.00030900291832307823\n",
      "0.0002535155011210916\n",
      "0.00020797899110063905\n",
      "0.0001706134198193137\n",
      "0.00013995558534722976\n",
      "0.00011480325342278852\n",
      "9.416898598386569e-05\n",
      "7.724200675145034e-05\n",
      "6.3356751348436e-05\n",
      "5.196696059938878e-05\n",
      "4.262435975590852e-05\n",
      "3.496112466989131e-05\n",
      "2.8675470570805405e-05\n",
      "2.3519812690798975e-05\n",
      "1.9291043210747855e-05\n",
      "1.5822548450131676e-05\n",
      "1.297765625906966e-05\n",
      "1.0644258296254213e-05\n",
      "8.73039712589358e-06\n",
      "7.160645414698476e-06\n",
      "5.8731352935960196e-06\n",
      "4.817121294758505e-06\n",
      "3.9509811255704335e-06\n",
      "3.240575683302818e-06\n",
      "2.6579037999818267e-06\n",
      "2.1799987765617947e-06\n",
      "1.7880232654540826e-06\n",
      "1.4665268592067825e-06\n",
      "1.2028371438674167e-06\n",
      "9.865602283575078e-07\n",
      "8.091710712224624e-07\n",
      "6.636774623790234e-07\n",
      "5.443444186541443e-07\n",
      "4.464681318786521e-07\n",
      "3.661905606938937e-07\n",
      "3.0034735871446097e-07\n",
      "2.4634314537612635e-07\n",
      "2.0204920335755795e-07\n",
      "1.6571957031138065e-07\n",
      "1.35922217608426e-07\n",
      "1.1148260341703702e-07\n",
      "9.143737520284287e-08\n",
      "7.499639673724615e-08\n",
      "6.151160284307905e-08\n",
      "5.04514542143398e-08\n",
      "4.1379985409679776e-08\n",
      "3.393962011403585e-08\n",
      "2.7837076329633116e-08\n",
      "2.2831805875915946e-08\n",
      "1.872651255076502e-08\n",
      "1.5359375163250816e-08\n",
      "1.2597668930100803e-08\n",
      "1.0332533762194733e-08\n",
      "[[0. 0. 0. 0. 0. 0. 0. 0. 0.]\n",
      " [1. 0. 0. 0. 0. 0. 0. 0. 0.]\n",
      " [0. 1. 0. 0. 0. 0. 0. 0. 0.]\n",
      " [1. 0. 0. 0. 0. 0. 0. 0. 0.]\n",
      " [0. 1. 0. 1. 0. 0. 0. 0. 0.]\n",
      " [0. 0. 1. 0. 1. 0. 0. 0. 0.]\n",
      " [0. 0. 0. 1. 0. 0. 0. 0. 0.]\n",
      " [0. 0. 0. 0. 1. 0. 1. 0. 0.]\n",
      " [0. 0. 0. 0. 0. 1. 0. 1. 0.]]\n",
      "<function jacobi at 0xa19baa840>\n",
      "[[ 0. -1.  0. -1.  0.  0.  0.  0.  0.]\n",
      " [-1.  0. -1.  0. -1.  0.  0.  0.  0.]\n",
      " [ 0. -1.  0.  0.  0. -1.  0.  0.  0.]\n",
      " [-1.  0.  0.  0. -1.  0. -1.  0.  0.]\n",
      " [ 0. -1.  0. -1.  0. -1.  0. -1.  0.]\n",
      " [ 0.  0. -1.  0. -1.  0.  0.  0. -1.]\n",
      " [ 0.  0.  0. -1.  0.  0.  0. -1.  0.]\n",
      " [ 0.  0.  0.  0. -1.  0. -1.  0. -1.]\n",
      " [ 0.  0.  0.  0.  0. -1.  0. -1.  0.]]\n",
      "10\n",
      "0.018979456008658375\n",
      "0.01239098744606723\n",
      "0.008570100453398134\n",
      "0.00602562054856569\n",
      "0.004254662208769018\n",
      "0.003007422090761201\n",
      "0.0021263778740098363\n",
      "0.001503542504362353\n",
      "0.0010631591414612981\n",
      "0.0007517659849607059\n",
      "0.0005315786396060489\n",
      "0.0003758828278791018\n",
      "0.0002657892907053551\n",
      "0.00018794140879576098\n",
      "0.00013289464444337656\n",
      "9.397070423713773e-05\n",
      "6.644732219327246e-05\n",
      "4.698535211354738e-05\n",
      "3.322366109574957e-05\n",
      "2.349267605661775e-05\n",
      "1.6611830547848585e-05\n",
      "1.1746338028304845e-05\n",
      "8.305915273923957e-06\n",
      "5.873169014154272e-06\n",
      "4.152957636963722e-06\n",
      "2.9365845070778828e-06\n",
      "2.0764788184817275e-06\n",
      "1.4682922535398488e-06\n",
      "1.0382394092423685e-06\n",
      "7.341461267711137e-07\n",
      "5.191197046229326e-07\n",
      "3.6707306338806074e-07\n",
      "2.59559852312086e-07\n",
      "1.8353653169390517e-07\n",
      "1.2977992615613153e-07\n",
      "9.176826584751594e-08\n",
      "6.488996307948215e-08\n",
      "4.588413292488471e-08\n",
      "3.244498154084764e-08\n",
      "2.2942066462379764e-08\n",
      "1.6222490771220546e-08\n",
      "1.1471033233130375e-08\n",
      "[[0. 0. 0. 0. 0. 0. 0. 0. 0.]\n",
      " [1. 0. 0. 0. 0. 0. 0. 0. 0.]\n",
      " [0. 1. 0. 0. 0. 0. 0. 0. 0.]\n",
      " [1. 0. 0. 0. 0. 0. 0. 0. 0.]\n",
      " [0. 1. 0. 1. 0. 0. 0. 0. 0.]\n",
      " [0. 0. 1. 0. 1. 0. 0. 0. 0.]\n",
      " [0. 0. 0. 1. 0. 0. 0. 0. 0.]\n",
      " [0. 0. 0. 0. 1. 0. 1. 0. 0.]\n",
      " [0. 0. 0. 0. 0. 1. 0. 1. 0.]]\n",
      "<function forward_gauss_seidel at 0xa19bbae18>\n",
      "[[ 0. -1.  0. -1.  0.  0.  0.  0.  0.]\n",
      " [ 0.  0. -1.  0. -1.  0.  0.  0.  0.]\n",
      " [ 0.  0.  0.  0.  0. -1.  0.  0.  0.]\n",
      " [ 0.  0.  0.  0. -1.  0. -1.  0.  0.]\n",
      " [ 0.  0.  0.  0.  0. -1.  0. -1.  0.]\n",
      " [ 0.  0.  0.  0.  0.  0.  0.  0. -1.]\n",
      " [ 0.  0.  0.  0.  0.  0.  0. -1.  0.]\n",
      " [ 0.  0.  0.  0.  0.  0.  0.  0. -1.]\n",
      " [ 0.  0.  0.  0.  0.  0.  0.  0.  0.]]\n",
      "10\n",
      "0.018979441128309876\n",
      "0.011300477867982675\n",
      "0.006729770883353746\n",
      "0.003750582231887121\n",
      "0.0019331307902391614\n",
      "0.0009740522479629041\n",
      "0.0004879696893461236\n",
      "0.00024410302880551582\n",
      "0.00012206629485232316\n",
      "6.103499521449144e-05\n",
      "3.05177285880405e-05\n",
      "1.5258893166846214e-05\n",
      "7.6294501925339e-06\n",
      "3.814725547406532e-06\n",
      "1.9073628300969554e-06\n",
      "9.536814220980566e-07\n",
      "4.768407119306533e-07\n",
      "2.3842035607596346e-07\n",
      "1.1921017805243778e-07\n",
      "5.960508902853184e-08\n",
      "2.980254451489235e-08\n",
      "1.4901272258168975e-08\n",
      "GS_u [-0.00148811 -0.00297623 -0.00347227 -0.00297623 -0.00694454 -0.01091286\n",
      " -0.00347227 -0.01091286 -0.03323421]\n",
      "u_exact [-0.00148812 -0.00297623 -0.00347227 -0.00297623 -0.00694455 -0.01091286\n",
      " -0.00347227 -0.01091286 -0.03323421]\n"
     ]
    },
    {
     "data": {
      "image/png": "[encoded data removed]",
      "text/plain": [
       "<Figure size 432x288 with 1 Axes>"
      ]
     },
     "metadata": {
      "needs_background": "light"
     },
     "output_type": "display_data"
    }
   ],
   "source": [
    "def initialize(M, method, omega):\n",
    "    TOL = 10\n",
    "    M2 = M**2\n",
    "    A = A_laplace(M)\n",
    "    # Source function\n",
    "    def f_func(x, y): \n",
    "        return np.exp(-50*((x-1/2)**2 + (y-1/2)**2))\n",
    "    \n",
    "    f = np.zeros((M, M))\n",
    "    for i in range(M):\n",
    "        for j in range(M):\n",
    "            f[i][j] = (1/M)**2 * f_func((i-1)/(M-1), (j-1)/(M-1))\n",
    "    f = np.reshape(f,(M2,1))\n",
    "    f = np.asarray(f).reshape(-1)\n",
    "    \n",
    "    As = sparse.csr_matrix(A)\n",
    "    Ds = sparse.csr_matrix(np.diag(np.diag(A)))\n",
    "    Es = sparse.tril(A, k=-1, format='csr')\n",
    "    print(Es.toarray())\n",
    "    \n",
    "    def initialize_method(method): # Necessary with function here?\n",
    "        print(method)\n",
    "        if method == 'successive_over_relaxation':\n",
    "            Ms = 1/omega * Ds + Es\n",
    "        if method == jacobi:\n",
    "            Ms = Ds\n",
    "        if method == forward_gauss_seidel:\n",
    "            Ms = Ds + Es\n",
    "        Ns = Ms - As\n",
    "        print(Ns.toarray())\n",
    "        return Ms, Ns\n",
    "    \n",
    "    Ms, Ns = initialize_method(method)\n",
    "    \n",
    "    u_exact = spsolve(As,f)\n",
    "    \n",
    "    return A, f, As, Ds, Ms, Ns, u_exact, TOL\n",
    "\n",
    "def iterate(M, method, omega=0):\n",
    "    A, f, As, Ds, Ms, Ns, u_exact, TOL = initialize(M, method, omega)\n",
    "    residuals = []\n",
    "    x = []\n",
    "    i = 0\n",
    "\n",
    "    u = np.zeros(M**2)\n",
    "    \n",
    "    while TOL > 10**(-8):\n",
    "        print(TOL)\n",
    "        u = inv(Ms).dot((Ns.dot(u) + f))\n",
    "        TOL = la.norm(u_exact - u)\n",
    "        residuals.append(TOL)\n",
    "        i += 1\n",
    "        x.append(i)\n",
    "    return u, u_exact, residuals, x\n",
    "\n",
    "M = 3\n",
    "omega = 0.5\n",
    "\n",
    "J_u, u_exact, J_residuals, J_x = iterate(M, jacobi)\n",
    "FGS_u, u_exact, FGS_residuals, FGS_x = iterate(M, forward_gauss_seidel)\n",
    "SOR_u, u_exact, SOR_residuals, SOR_x = iterate(M, 'successive_over_relaxation', omega)   \n",
    "      \n",
    "# Error plot\n",
    "plt.semilogy(J_x, J_residuals, label='Jacobi method')\n",
    "plt.semilogy(GS_x, GS_residuals, label='Forward Gauss-Seidel method')\n",
    "plt.semilogy(SOR_x, SOR_residuals, label='Successive over relaxation')\n",
    "plt.legend()\n",
    "plt.show()\n",
    "\n"
   ]
  },
  {
   "cell_type": "code",
   "execution_count": null,
   "metadata": {},
   "outputs": [],
   "source": []
  }
 ],
 "metadata": {
  "kernelspec": {
   "display_name": "Python 3",
   "language": "python",
   "name": "python3"
  },
  "language_info": {
   "codemirror_mode": {
    "name": "ipython",
    "version": 3
   },
   "file_extension": ".py",
   "mimetype": "text/x-python",
   "name": "python",
   "nbconvert_exporter": "python",
   "pygments_lexer": "ipython3",
   "version": "3.7.1"
  }
 },
 "nbformat": 4,
 "nbformat_minor": 2
}
