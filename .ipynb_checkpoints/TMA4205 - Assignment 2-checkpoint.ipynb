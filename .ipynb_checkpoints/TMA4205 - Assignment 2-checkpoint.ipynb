{
 "cells": [
  {
   "cell_type": "markdown",
   "metadata": {},
   "source": [
    "# Numerical Linear Algebra - Assignment 2"
   ]
  },
  {
   "cell_type": "markdown",
   "metadata": {},
   "source": [
    "## Exercise 1"
   ]
  },
  {
   "cell_type": "markdown",
   "metadata": {},
   "source": [
    "### a)"
   ]
  },
  {
   "cell_type": "markdown",
   "metadata": {},
   "source": [
    "I have that \n",
    "\n",
    "$$ \\tilde{x} = x_0 + V(W^TAV)^{-1}W^Tr_0 $$\n",
    "\n",
    "where $V = V_m$ and $W = AV_m$. From this I expand the equation $ b-A\\tilde{x}$ as such\n",
    "\n",
    "$$\n",
    "\\begin{aligned}\n",
    "b - A \\tilde{x} &= b - A(x_0 + V(W^TAV)^{-1}W^Tr_0) \\\\ &= b - Ax_0 - AV_m(V_m^TA^TAV_M)^{-1}V_m^TA^T r_0 \\\\\n",
    "&= r_0 - AV_m(V_m^TA^TAV_m)^{-1}V_m^TA^Tr_0 \\\\ &= \\beta v_1 - V_{m+1}\\bar{H}_m(\\bar{H}_m^TV_{m+1}^TV_{m+1}\\bar{H}_m)^{-1}\\bar{H}_m^T V_{m+1}^T\\beta v_1 \\\\ &= \\beta v_1 - V_{m+1}\\bar{H}_m(\\bar{H}_m^T\\bar{H}_m)^{-1}\\bar{H}_m^TV_{m+1}^TV_{m+1} \\beta e_1 \\\\ &= V_{m+1}(\\beta e_1 - \\bar{H}_m(\\bar{H}_m^T\\bar{H}_m)^{-1}\\bar{H}_m^T \\beta e_1),\n",
    "\\end{aligned} $$\n",
    "\n",
    "where I've used that $AV_m = V_{m+1}\\bar{H}_m$, $\\space r_0 = \\beta v_1$, and that the column vectors of $V_m$ are orthonormal. I also have that $\\tilde{x} = x_0 + V_my_m$, and by expansion I get that\n",
    "\n",
    "$$\n",
    "\\begin{aligned}\n",
    "b-A\\tilde{x} &= b-A(x_0 + V_my_m) \\\\ &= b-Ax_0-AV_my_m \\\\ &= r_0 - AV_my_m \\\\ &= \\beta v_1 - V_{m+1}\\bar{H}_my_m \\\\ &= V_{m+1}(\\beta e_1 - \\bar{H}_my_m).\n",
    "\\end{aligned}\n",
    "$$\n",
    "\n",
    "By combining these expressions I get that\n",
    "\n",
    "$$\n",
    "\\begin{aligned}\n",
    "V_{m+1}(\\beta e_1 - \\bar{H}_my_m) &= V_{m+1}(\\beta e_1 - \\bar{H}_m(\\bar{H}_m^T\\bar{H}_m)^{-1}\\bar{H}_m^T \\beta e_1) \\\\ \\bar{H}_my_m &= \\bar{H}_m (\\bar{H}_m^T\\bar{H}_m)^{-1}\\bar{H}_m \\beta e_1 \\\\\n",
    "y_m &= (\\bar{H}_m^T\\bar{H}_m)^{-1}\\bar{H}_m\\beta e_1,\n",
    "\\end{aligned}\n",
    "$$\n",
    "\n",
    "which is the solution to the problem \n",
    "\n",
    "$$y_m = \\mathrm{arg}\\min_y ||\\beta e_1 - \\bar{H}_my ||_2. $$"
   ]
  },
  {
   "cell_type": "markdown",
   "metadata": {},
   "source": [
    "### b)"
   ]
  },
  {
   "cell_type": "markdown",
   "metadata": {},
   "source": [
    "I consider the linear system $A\\textbf{x}=\\textbf{b}$ with initial guess $\\textbf{x}_0$ where\n",
    "\n",
    "$$ A =\n",
    "\\begin{bmatrix}\n",
    "0 & 0 & 0 & 0 & 1 \\\\\n",
    "1 & 0 & 0 & 0 & 0 \\\\\n",
    "0 & 1 & 0 & 0 & 0 \\\\\n",
    "0 & 0 & 1 & 0 & 0 \\\\\n",
    "0 & 0 & 0 & 1 & 0\n",
    "\\end{bmatrix}\n",
    ", \\space b = \n",
    "\\begin{bmatrix}\n",
    "1 \\\\\n",
    "0 \\\\\n",
    "0 \\\\\n",
    "0 \\\\\n",
    "0\n",
    "\\end{bmatrix}\n",
    ", \\space \\mathrm{and} \\space x_0 =\n",
    "\\begin{bmatrix}\n",
    "0 \\\\\n",
    "0 \\\\\n",
    "0 \\\\\n",
    "0 \\\\\n",
    "0\n",
    "\\end{bmatrix}.\n",
    "$$"
   ]
  },
  {
   "cell_type": "markdown",
   "metadata": {},
   "source": [
    "#### i) Arnoldi's Method"
   ]
  },
  {
   "cell_type": "markdown",
   "metadata": {},
   "source": [
    "For Arnoldi's method I start by setting $v_1=b$. Then I get that $||v_1||_2=1$, so the condition for $v$ is fulfilled. Then by iterating through the method I get that for $j=1$\n",
    "\n",
    "$$\n",
    "\\begin{aligned}\n",
    "h_{11} &= \\langle Av_1, v_1 \\rangle = 0 \\\\\n",
    "w_1 &= Av_1 - h_{11} = Av_1 \\\\\n",
    "h_{21} &= ||Av_1||_2 = \\sqrt{1^2} = 1 \\\\\n",
    "v_2 &= \\frac{w_1}{h_{21}} = \\frac{Av_1}{1} = Av_1.\n",
    "\\end{aligned}\n",
    "$$\n",
    "\n",
    "And then for $j=2$ I get\n",
    "\n",
    "$$\n",
    "\\begin{aligned}\n",
    "h_{12} &= \\langle Av_2, v_1 \\rangle = 0 \\\\\n",
    "h_{22} &= \\langle Av_2, v_2 \\rangle = 0 \\\\\n",
    "w_2 &= Av_2 - h_{12} - h_{22} = Av_1 \\\\\n",
    "h_{32} &= ||Av_2||_2 = \\sqrt{1^2} = 1 \\\\\n",
    "v_3 &= \\frac{w_2}{h_{32}} = \\frac{Av_2}{1} = Av_2.\n",
    "\\end{aligned}\n",
    "$$\n",
    "\n",
    "This goes on in the same manner until $h_{65}$ because this is equal to $0$, and thus stopping the iterations. By the end I will then have the result\n",
    "\n",
    "$$ V_m =\n",
    "\\begin{bmatrix}\n",
    "1 & 0 & 0 & 0 & 0 \\\\\n",
    "0 & 1 & 0 & 0 & 0 \\\\\n",
    "0 & 0 & 1 & 0 & 0 \\\\\n",
    "0 & 0 & 0 & 1 & 0 \\\\\n",
    "0 & 0 & 0 & 0 & 1\n",
    "\\end{bmatrix}\n",
    ", \\space \\mathrm{and} \\space \\bar{H}_m =\n",
    "\\begin{bmatrix}\n",
    "0 & 0 & 0 & 0 & 1 \\\\\n",
    "1 & 0 & 0 & 0 & 0 \\\\\n",
    "0 & 1 & 0 & 0 & 0 \\\\\n",
    "0 & 0 & 1 & 0 & 0 \\\\\n",
    "0 & 0 & 0 & 1 & 0\n",
    "\\end{bmatrix}\n",
    "$$"
   ]
  },
  {
   "cell_type": "code",
   "execution_count": null,
   "metadata": {},
   "outputs": [],
   "source": []
  }
 ],
 "metadata": {
  "kernelspec": {
   "display_name": "Python 3",
   "language": "python",
   "name": "python3"
  },
  "language_info": {
   "codemirror_mode": {
    "name": "ipython",
    "version": 3
   },
   "file_extension": ".py",
   "mimetype": "text/x-python",
   "name": "python",
   "nbconvert_exporter": "python",
   "pygments_lexer": "ipython3",
   "version": "3.7.1"
  }
 },
 "nbformat": 4,
 "nbformat_minor": 2
}
