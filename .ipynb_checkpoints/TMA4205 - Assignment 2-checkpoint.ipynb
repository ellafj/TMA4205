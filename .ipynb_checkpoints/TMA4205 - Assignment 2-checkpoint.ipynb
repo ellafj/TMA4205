{
 "cells": [
  {
   "cell_type": "markdown",
   "metadata": {},
   "source": [
    "# Numerical Linear Algebra - Assignment 2"
   ]
  },
  {
   "cell_type": "markdown",
   "metadata": {},
   "source": [
    "## Exercise 1"
   ]
  },
  {
   "cell_type": "markdown",
   "metadata": {},
   "source": [
    "### a)"
   ]
  },
  {
   "cell_type": "markdown",
   "metadata": {},
   "source": [
    "I have that \n",
    "\n",
    "$$ \\tilde{x} = x_0 + V(W^TAV)^{-1}W^Tr_0 $$\n",
    "\n",
    "where $V = V_m$ and $W = AV_m$. From this I expand the equation $ b-A\\tilde{x}$ as such\n",
    "\n",
    "$$\n",
    "\\begin{aligned}\n",
    "b - A \\tilde{x} &= b - A(x_0 + V(W^TAV)^{-1}W^Tr_0) \\\\ &= b - Ax_0 - AV_m(V_m^TA^TAV_M)^{-1}V_m^TA^T r_0 \\\\\n",
    "&= r_0 - AV_m(V_m^TA^TAV_m)^{-1}V_m^TA^Tr_0 \\\\ &= \\beta v_1 - V_{m+1}\\bar{H}_m(\\bar{H}_m^TV_{m+1}^TV_{m+1}\\bar{H}_m)^{-1}\\bar{H}_m^T V_{m+1}^T\\beta v_1 \\\\ &= \\beta v_1 - V_{m+1}\\bar{H}_m(\\bar{H}_m^T\\bar{H}_m)^{-1}\\bar{H}_m^TV_{m+1}^TV_{m+1} \\beta e_1 \\\\ &= V_{m+1}(\\beta e_1 - \\bar{H}_m(\\bar{H}_m^T\\bar{H}_m)^{-1}\\bar{H}_m^T \\beta e_1),\n",
    "\\end{aligned} $$\n",
    "\n",
    "where I've used that $AV_m = V_{m+1}\\bar{H}_m$, $\\space r_0 = \\beta v_1$, and that the column vectors of $V_m$ are orthonormal. I also have that $\\tilde{x} = x_0 + V_my_m$, and by expansion I get that\n",
    "\n",
    "$$\n",
    "\\begin{aligned}\n",
    "b-A\\tilde{x} &= b-A(x_0 + V_my_m) \\\\ &= b-Ax_0-AV_my_m \\\\ &= r_0 - AV_my_m \\\\ &= \\beta v_1 - V_{m+1}\\bar{H}_my_m \\\\ &= V_{m+1}(\\beta e_1 - \\bar{H}_my_m).\n",
    "\\end{aligned}\n",
    "$$\n",
    "\n",
    "By combining these expressions I get that\n",
    "\n",
    "$$\n",
    "\\begin{aligned}\n",
    "V_{m+1}(\\beta e_1 - \\bar{H}_my_m) &= V_{m+1}(\\beta e_1 - \\bar{H}_m(\\bar{H}_m^T\\bar{H}_m)^{-1}\\bar{H}_m^T \\beta e_1) \\\\ \\bar{H}_my_m &= \\bar{H}_m (\\bar{H}_m^T\\bar{H}_m)^{-1}\\bar{H}_m \\beta e_1 \\\\\n",
    "y_m &= (\\bar{H}_m^T\\bar{H}_m)^{-1}\\bar{H}_m\\beta e_1,\n",
    "\\end{aligned}\n",
    "$$\n",
    "\n",
    "which is the solution to the problem \n",
    "\n",
    "$$y_m = \\mathrm{arg}\\min_y ||\\beta e_1 - \\bar{H}_my ||_2. $$"
   ]
  },
  {
   "cell_type": "markdown",
   "metadata": {},
   "source": [
    "### b)"
   ]
  },
  {
   "cell_type": "markdown",
   "metadata": {},
   "source": [
    "I consider the linear system $A\\textbf{x}=\\textbf{b}$ with initial guess $\\textbf{x}_0$ where\n",
    "\n",
    "$$ A =\n",
    "\\begin{bmatrix}\n",
    "0 & 0 & 0 & 0 & 1 \\\\\n",
    "1 & 0 & 0 & 0 & 0 \\\\\n",
    "0 & 1 & 0 & 0 & 0 \\\\\n",
    "0 & 0 & 1 & 0 & 0 \\\\\n",
    "0 & 0 & 0 & 1 & 0\n",
    "\\end{bmatrix}\n",
    ", \\space b = \n",
    "\\begin{bmatrix}\n",
    "1 \\\\\n",
    "0 \\\\\n",
    "0 \\\\\n",
    "0 \\\\\n",
    "0\n",
    "\\end{bmatrix}\n",
    ", \\space \\mathrm{and} \\space x_0 =\n",
    "\\begin{bmatrix}\n",
    "0 \\\\\n",
    "0 \\\\\n",
    "0 \\\\\n",
    "0 \\\\\n",
    "0\n",
    "\\end{bmatrix}.\n",
    "$$"
   ]
  },
  {
   "cell_type": "markdown",
   "metadata": {},
   "source": [
    "#### 1. Arnoldi's Method"
   ]
  },
  {
   "cell_type": "markdown",
   "metadata": {},
   "source": [
    "For Arnoldi's method I start by setting $v_1=b$. Then I get that $||v_1||_2=1$, so the condition for $v$ is fulfilled. Then by iterating through the method I get that for $j=1$\n",
    "\n",
    "$$\n",
    "\\begin{aligned}\n",
    "h_{11} &= \\langle Av_1, v_1 \\rangle = 0 \\\\\n",
    "w_1 &= Av_1 - h_{11} = Av_1 \\\\\n",
    "h_{21} &= ||Av_1||_2 = \\sqrt{1^2} = 1 \\\\\n",
    "v_2 &= \\frac{w_1}{h_{21}} = \\frac{Av_1}{1} = Av_1.\n",
    "\\end{aligned}\n",
    "$$\n",
    "\n",
    "And then for $j=2$ I get\n",
    "\n",
    "$$\n",
    "\\begin{aligned}\n",
    "h_{12} &= \\langle Av_2, v_1 \\rangle = 0 \\\\\n",
    "h_{22} &= \\langle Av_2, v_2 \\rangle = 0 \\\\\n",
    "w_2 &= Av_2 - h_{12} - h_{22} = Av_1 \\\\\n",
    "h_{32} &= ||Av_2||_2 = \\sqrt{1^2} = 1 \\\\\n",
    "v_3 &= \\frac{w_2}{h_{32}} = \\frac{Av_2}{1} = Av_2.\n",
    "\\end{aligned}\n",
    "$$\n",
    "\n",
    "This goes on in the same manner until $h_{65}$ because this is equal to $0$, whoch stops the iterations. By the end I will then have the result\n",
    "\n",
    "$$ V_m =\n",
    "\\begin{bmatrix}\n",
    "1 & 0 & 0 & 0 & 0 \\\\\n",
    "0 & 1 & 0 & 0 & 0 \\\\\n",
    "0 & 0 & 1 & 0 & 0 \\\\\n",
    "0 & 0 & 0 & 1 & 0 \\\\\n",
    "0 & 0 & 0 & 0 & 1\n",
    "\\end{bmatrix}\n",
    ", \\space \\mathrm{and} \\space \\bar{H}_m =\n",
    "\\begin{bmatrix}\n",
    "0 & 0 & 0 & 0 & 1 \\\\\n",
    "1 & 0 & 0 & 0 & 0 \\\\\n",
    "0 & 1 & 0 & 0 & 0 \\\\\n",
    "0 & 0 & 1 & 0 & 0 \\\\\n",
    "0 & 0 & 0 & 1 & 0\n",
    "\\end{bmatrix}\n",
    "$$"
   ]
  },
  {
   "cell_type": "markdown",
   "metadata": {},
   "source": [
    "#### 2. Full Orthoganilzation Method"
   ]
  },
  {
   "cell_type": "markdown",
   "metadata": {},
   "source": [
    "In FOM I start by setting $r_o = b-Ax_0 = (1,0,0,0,0)^T$, $\\beta = ||r_0||_2 = 1$, and $v_1 = r_0 \\big/\\beta = (1,0,0,0,0)^T$. Then for $j=1$ I get \n",
    "\n",
    "$$\n",
    "\\begin{aligned}\n",
    "w_1 &= Av_1 = (0,1,0,0,0)^T \\\\\n",
    "h_{11} &= \\langle w_1, v_1 \\rangle = 0 \\\\\n",
    "w_1 &= w_1 - h_{11} v_1 = w_1 \\\\\n",
    "h_{21} &= ||w_1||_2 = 1 \\\\\n",
    "v_2 &= \\frac{w_1}{h_{21}} = w_1.\n",
    "\\end{aligned}\n",
    "$$\n",
    "\n",
    "If $m=1$, I would have gotten the $1 \\times 1$-matrix $\\bar{H}_1 =\\begin{bmatrix} 0 \\end{bmatrix}$. However, since this isn't invertible, the method would fail. This goes for $m = 2,3,4$ as well as one would get the matrices\n",
    "\n",
    "$$ \\bar{H}_2 =\n",
    "\\begin{bmatrix}\n",
    "0 & 0 \\\\\n",
    "1 & 0 \n",
    "\\end{bmatrix}, \\bar{H}_3 =\n",
    "\\begin{bmatrix}\n",
    "0 & 0 & 0 \\\\\n",
    "1 & 0 & 0 \\\\\n",
    "0 & 1 & 0 \n",
    "\\end{bmatrix}, \\space \\mathrm{and} \\space \\bar{H}_4 =\n",
    "\\begin{bmatrix}\n",
    "0 & 0 & 0 & 1 \\\\\n",
    "1 & 0 & 0 & 0 \\\\\n",
    "0 & 1 & 0 & 0 \\\\\n",
    "0 & 0 & 1 & 0 \n",
    "\\end{bmatrix},\n",
    "$$\n",
    "\n",
    "as neither of these are invertible. However for $m=5$, one ends up with the matrices\n",
    "\n",
    "$$ \\bar{H}_5 =\n",
    "\\begin{bmatrix}\n",
    "0 & 0 & 0 & 0 & 1 \\\\\n",
    "1 & 0 & 0 & 0 & 0 \\\\\n",
    "0 & 1 & 0 & 0 & 0 \\\\\n",
    "0 & 0 & 1 & 0 & 0 \\\\\n",
    "0 & 0 & 0 & 1 & 0\n",
    "\\end{bmatrix}, \\space V_5 = \n",
    "\\begin{bmatrix}\n",
    "1 & 0 & 0 & 0 & 0 \\\\\n",
    "0 & 1 & 0 & 0 & 0 \\\\\n",
    "0 & 0 & 1 & 0 & 0 \\\\\n",
    "0 & 0 & 0 & 1 & 0 \\\\\n",
    "0 & 0 & 0 & 0 & 1\n",
    "\\end{bmatrix}.\n",
    "$$\n",
    "\n",
    "Thus, one gets\n",
    "\n",
    "$$\n",
    "\\begin{aligned}\n",
    "y_5 &= \\bar{H}_5^{-1}(\\beta e_1) = \\begin{bmatrix}\n",
    "0 & 1 & 0 & 0 & 0 \\\\\n",
    "0 & 0 & 1 & 0 & 0 \\\\\n",
    "0 & 0 & 0 & 1 & 0 \\\\\n",
    "0 & 0 & 0 & 0 & 1 \\\\\n",
    "1 & 0 & 0 & 0 & 0\n",
    "\\end{bmatrix} \\cdot 1 \\cdot \\begin{bmatrix} 1 \\\\ 0 \\\\ 0 \\\\ 0 \\\\ 0 \\end{bmatrix} = \\begin{bmatrix} 0 \\\\ 0 \\\\ 0 \\\\ 0 \\\\ 1 \\end{bmatrix} \\\\ \\\\\n",
    "x_5 &= x_0 + V_5y_5 = \\begin{bmatrix} 0 \\\\ 0 \\\\ 0 \\\\ 0 \\\\ 0 \\end{bmatrix} + \\begin{bmatrix}\n",
    "1 & 0 & 0 & 0 & 0 \\\\\n",
    "0 & 1 & 0 & 0 & 0 \\\\\n",
    "0 & 0 & 1 & 0 & 0 \\\\\n",
    "0 & 0 & 0 & 1 & 0 \\\\\n",
    "0 & 0 & 0 & 0 & 1\n",
    "\\end{bmatrix} \\cdot \\begin{bmatrix} 0 \\\\ 0 \\\\ 0 \\\\ 0 \\\\ 1 \\end{bmatrix} = \\begin{bmatrix} 0 \\\\ 0 \\\\ 0 \\\\ 0 \\\\ 1 \\end{bmatrix}.\n",
    "\\end{aligned}\n",
    "$$"
   ]
  },
  {
   "cell_type": "markdown",
   "metadata": {},
   "source": [
    "#### 3. QR-Factorization with Given's Rotations"
   ]
  },
  {
   "cell_type": "markdown",
   "metadata": {},
   "source": [
    "The Given's rotation matrices are defined as \n",
    "\n",
    "$$\n",
    "\\Omega_i = \\begin{bmatrix}\n",
    "1 & & & & & & & \\\\\n",
    " & \\ddots & & & & & &\\\\\n",
    " &  & 1 & & & & &\\\\\n",
    " &  &  & c_i & s_i & & & \\\\\n",
    " & & & -s_i & c_i & & & \\\\\n",
    " & & & & & 1 & &  \\\\\n",
    " & & & & & & \\ddots &  \\\\\n",
    " & & & & & & & 1 \\\\\n",
    "\\end{bmatrix} \n",
    "\\begin{array}[l]\n",
    "& \\\\ & \\\\ & \\\\ \\longleftarrow \\mathrm{row} \\space i \\\\ \\longleftarrow \\mathrm{row} \\space i+1\\\\ & \\\\ & \\\\ & \\end{array}\n",
    "$$\n",
    "\n",
    "where $s_i^2+c_i^2=1$ and defined as \n",
    "\n",
    "$$\n",
    "s_1 = \\frac{h_{21}}{\\sqrt{h_{11}^2+h_{21}^2}}, \\space c_1 = \\frac{h_{11}}{\\sqrt{h_{11}^2+h_{21}^2}},\n",
    "$$\n",
    "\n",
    "and then\n",
    "\n",
    "$$\n",
    "s_1 = \\frac{h_{i+1, i}}{\\sqrt{h_{ii}^{(i-1)}+h_{i+1,i}^2}}, \\space c_1 = \\frac{h_{ii}^{(i-1)}}{\\sqrt{h_{ii}^{(i-1)}+h_{i+1,i}^2}}\n",
    "$$\n",
    "\n",
    "for an upper Hessenberg matrix $H_m$. So if I study the matrices $\\bar{H}_m$ of the form \n",
    "\n",
    "$$\n",
    "\\begin{bmatrix}\n",
    "h_{11} & h_{12}& h_{13} &\\cdots & h_{1m} \\\\\n",
    "h_{21} & h_{22} & h_{23} &\\cdots & h_{2m} \\\\\n",
    "0 & h_{32} & h_{33} & \\cdots & h_{3m} \\\\\n",
    "\\vdots & \\ddots & \\ddots & \\vdots & \\vdots \\\\\n",
    "0 & \\cdots & 0 & h_{m,m-1} & h_{mm} \\\\\n",
    "0 & \\cdots & 0 &0 & h_{m+1,m}\n",
    "\\end{bmatrix}\n",
    "$$\n",
    "\n",
    "I would get for $m=2$\n",
    "\n",
    "$$\n",
    "\\bar{H}_2^{(1)} = \\Omega_1 \\bar{H}_2 = \\begin{bmatrix}0 & 1 & 0 \\\\ -1 & 0 & 0 \\\\ 0 & 0 & 0 \\end{bmatrix} \\begin{bmatrix}0 & 0 \\\\ 1 & 0 \\\\ 0 & 0  \\end{bmatrix} = \\begin{bmatrix}1 & 0 \\\\ 0 & 0 \\\\ 0 & 0  \\end{bmatrix},\n",
    "$$\n",
    "\n",
    "which is an upper diagonal matrix as I wanted. For $m=5$ one has to go through this process a couple of times, as such\n",
    "\n",
    "$$\n",
    "\\begin{aligned}\n",
    "\\bar{H}_5^{(1)} = \\Omega_1 \\bar{H}_5 &= \\begin{bmatrix}\n",
    "0 & 1 & 0 & 0 & 0 & 0\\\\\n",
    "-1 & 0 & 0 & 0 & 0 & 0\\\\\n",
    "0 & 0 & 1 & 0 & 0 & 0\\\\\n",
    "0 & 0 & 0 & 1 & 0 & 0\\\\\n",
    "0 & 0 & 0 & 0 & 1 & 0\\\\\n",
    "0 & 0 & 0 & 0 & 0 & 1 \\\\\n",
    "\\end{bmatrix} \\begin{bmatrix}\n",
    "0 & 0 & 0 & 0 & 1 \\\\\n",
    "1 & 0 & 0 & 0 & 0 \\\\\n",
    "0 & 1 & 0 & 0 & 0 \\\\\n",
    "0 & 0 & 1 & 0 & 0 \\\\\n",
    "0 & 0 & 0 & 1 & 0 \\\\\n",
    "0 & 0 & 0 & 0 & 0\n",
    "\\end{bmatrix} = \\begin{bmatrix}\n",
    "1 & 0 & 0 & 0 & 0 \\\\\n",
    "0 & 0 & 0 & 0 & -1 \\\\\n",
    "0 & 1 & 0 & 0 & 0 \\\\\n",
    "0 & 0 & 1 & 0 & 0 \\\\\n",
    "0 & 0 & 0 & 1 & 0 \\\\\n",
    "0 & 0 & 0 & 0 & 0\n",
    "\\end{bmatrix} \\\\ \\\\\n",
    "\\bar{H}_5^{(2)} = \\Omega_2 \\bar{H}_5^{(1)} &= \\begin{bmatrix}\n",
    "1 & 0 & 0 & 0 & 0 & 0\\\\\n",
    "0 & 0 & 1 & 0 & 0 & 0\\\\\n",
    "0 & -1 & 0 & 0 & 0 & 0\\\\\n",
    "0 & 0 & 0 & 1 & 0 & 0\\\\\n",
    "0 & 0 & 0 & 0 & 1 & 0\\\\\n",
    "0 & 0 & 0 & 0 & 0 & 1\n",
    "\\end{bmatrix} \\begin{bmatrix}\n",
    "1 & 0 & 0 & 0 & 0 \\\\\n",
    "0 & 0 & 0 & 0 & -1 \\\\\n",
    "0 & 1 & 0 & 0 & 0 \\\\\n",
    "0 & 0 & 1 & 0 & 0 \\\\\n",
    "0 & 0 & 0 & 1 & 0 \\\\\n",
    "0 & 0 & 0 & 0 & 0\n",
    "\\end{bmatrix} = \\begin{bmatrix}\n",
    "1 & 0 & 0 & 0 & 0 \\\\\n",
    "0 & 1 & 0 & 0 & 0 \\\\\n",
    "0 & 0 & 0 & 0 & 1 \\\\\n",
    "0 & 0 & 1 & 0 & 0 \\\\\n",
    "0 & 0 & 0 & 1 & 0 \\\\\n",
    "0 & 0 & 0 & 0 & 0\n",
    "\\end{bmatrix},\n",
    "\\end{aligned}\n",
    "$$\n",
    "\n",
    "and so on until I end up with\n",
    "\n",
    "$$\n",
    "\\bar{H}_5^{(5)} = \\Omega_5 \\bar{H}_5^{(4)} \\begin{bmatrix}\n",
    "1 & 0 & 0 & 0 & 0 \\\\\n",
    "0 & 1 & 0 & 0 & 0 \\\\\n",
    "0 & 0 & 1 & 0 & 0 \\\\\n",
    "0 & 0 & 0 & 1 & 0 \\\\\n",
    "0 & 0 & 0 & 0 & 1 \\\\\n",
    "0 & 0 & 0 & 0 & 0\n",
    "\\end{bmatrix}.\n",
    "$$\n",
    "\n",
    "To use this, we also have to apply the rotations on $b$ as such\n",
    "\n",
    "$$\n",
    "b^{(1)} = \\Omega_1 b = \\begin{bmatrix}\n",
    "0 & 1 & 0 & 0 & 0 & 0\\\\\n",
    "-1 & 0 & 0 & 0 & 0& 0 \\\\\n",
    "0 & 0 & 1 & 0 & 0 & 0\\\\\n",
    "0 & 0 & 0 & 1 & 0 & 0\\\\\n",
    "0 & 0 & 0 & 0 & 1 & 0 \\\\\n",
    "0 & 0 & 0 & 0 & 0 & 1\n",
    "\\end{bmatrix} \\begin{bmatrix} 1 \\\\ 0 \\\\ 0 \\\\ 0 \\\\ 0 \\\\ 0 \\end{bmatrix} = \\begin{bmatrix} 0 \\\\ -1 \\\\ 0 \\\\ 0 \\\\ 0 \\\\0 \\end{bmatrix}, \\quad b^{(2)} = \\Omega_2 b^{(1)} = \\begin{bmatrix}\n",
    "1 & 0 & 0 & 0 & 0 & 0\\\\\n",
    "0 & 0 & 1 & 0 & 0 & 0\\\\\n",
    "0 & -1 & 0 & 0 & 0 & 0\\\\\n",
    "0 & 0 & 0 & 1 & 0 & 0\\\\\n",
    "0 & 0 & 0 & 0 & 1 & 0\\\\\n",
    "0 & 0 & 0 & 0 & 0 & 1\n",
    "\\end{bmatrix} \\begin{bmatrix} 0 \\\\ -1 \\\\ 0 \\\\ 0 \\\\ 0 \\\\ 0 \\end{bmatrix} = \\begin{bmatrix} 0 \\\\ 0 \\\\ 1 \\\\ 0 \\\\ 0 \\\\ 0\\end{bmatrix}\n",
    "$$\n",
    "\n",
    "until I end up with \n",
    "\n",
    "$$\n",
    "b^{(5)} = \\Omega_5 b^{(4)} = \\begin{bmatrix} 0 \\\\ 0 \\\\ 0 \\\\ 0 \\\\ 1 \\\\ 0\\end{bmatrix}\n",
    "$$\n",
    "\n",
    "Then I wish to define $Q_m = \\Omega_m \\Omega_{m-1} \\cdots \\Omega_1$ and set $\\bar{R}_m = \\bar{H}_m^{(m)} = Q_m\\bar{H}_m$ and $\\bar{g}_m = Q_m(\\beta e_1) = (\\gamma_1, \\gamma_2, \\dotso, \\gamma_m)^T = b^{(m)}$. Since I know that $Q_m$ is unitary, I can write that the solution to the least square problem can be rewritten as \n",
    "\n",
    "$$\\text{arg}\\min_y ||\\beta e_1 - \\bar{H}_my||_2 = \\text{arg}\\min_y ||\\bar{g}_m - \\bar{R}_my||_2.$$"
   ]
  },
  {
   "cell_type": "markdown",
   "metadata": {},
   "source": [
    "#### 4. GMRES"
   ]
  },
  {
   "cell_type": "markdown",
   "metadata": {},
   "source": [
    "I start by setting $r_0 = b-Ax_0 = (1,0,0,0,0)^T$, $\\beta = ||r_0||_2 = 1$, and $v_1 = r_0\\big/\\beta = (1,0,0,0,0)^T$. Then for $j=1$ I get\n",
    "\n",
    "$$\n",
    "\\begin{aligned}\n",
    "w_1 &= Av_1 = (0, 1,0,0,0)^T \\\\\n",
    "h_{11} &= \\langle w_1, v_1 \\rangle = 0 \\\\\n",
    "w_1 &= w_1 - h_{11}v_1 = w_1 \\\\\n",
    "h_{21} &= ||w_1||_2 = 1 \\\\\n",
    "v_2 &= w_1/h_{21} = (0,1,0,0,0)^T.\n",
    "\\end{aligned}\n",
    "$$\n",
    "\n",
    "And then for $j=2$\n",
    "\n",
    "$$\n",
    "\\begin{aligned}\n",
    "w_1 &= Av_2 = (0, 0,1,0,0)^T \\\\\n",
    "h_{12} &= \\langle w_2, v_1 \\rangle = 0 \\\\\n",
    "w_2 &= w_2 - h_{12}v_1 = w_2 \\\\\n",
    "h_{22} &= \\langle w_2, v_2 \\rangle = 0 \\\\\n",
    "w_2 &= w_2 - h_{22}v_2 = w_2 \\\\\n",
    "h_{32} &= ||w_2||_2 = 1 \\\\\n",
    "v_3 &= w_2/h_{21} = (0,0,1,0,0)^T.\n",
    "\\end{aligned}\n",
    "$$\n",
    "\n",
    "This will go on until it reaches $j=m$. If $m=5$ then the result would be\n",
    "\n",
    "$$\n",
    "\\bar{H}_5 = \\begin{bmatrix}\n",
    "0 & 0 & 0 & 0 & 1 \\\\\n",
    "1 & 0 & 0 & 0 & 0 \\\\\n",
    "0 & 1 & 0 & 0 & 0 \\\\\n",
    "0 & 0 & 1 & 0 & 0 \\\\\n",
    "0 & 0 & 0 & 1 & 0 \\\\\n",
    "0 & 0 & 0 & 0 & 0\n",
    "\\end{bmatrix},\n",
    "$$\n",
    "\n",
    "where for any $m<5$, $H_m$ would be a subset of this matrix. But let's again look at $m=5$. Then from Given's rotations one would get\n",
    "\n",
    "$$\n",
    "y_5 = \\text{arg}\\min_y ||\\beta e_1 - \\bar{H}_5y||_2 = \\text{arg}\\min_y ||\\bar{g}_5 - \\bar{R}_5y||_2.\n",
    "$$\n",
    "\n",
    "From this one can see that the solution will be the obtained by solving the system $R_m'y = g_m'$ where $R_m'$ and $g_m'$ are the same as $R_m$ and $g_m$ only without the last row."
   ]
  },
  {
   "cell_type": "markdown",
   "metadata": {},
   "source": [
    "## Exercise 2"
   ]
  },
  {
   "cell_type": "markdown",
   "metadata": {},
   "source": [
    "### a)"
   ]
  },
  {
   "cell_type": "markdown",
   "metadata": {},
   "source": [
    "If $A \\in \\mathbb{R}^n$ is a symmetric matrix $(A=A^T)$, then $A$ is positive definite if one of the following conditions is satisfied:\n",
    "1. $x^TAx>0 \\quad \\forall x\\in\\mathbb{R}^n, \\space x≠0$\n",
    "2. All eigenvalues of $A$ are such that $\\lambda_i>0$.\n",
    "\n",
    "I wish to show that these expressions are equivalent."
   ]
  },
  {
   "cell_type": "markdown",
   "metadata": {},
   "source": [
    "Since \n",
    "\n",
    "$$x^TAx = x^TQ\\Lambda Q^Tx > 0$$\n",
    "\n",
    "by the first condition, I define that $y = x^TQ$. Thus\n",
    "\n",
    "$$ y \\Lambda y^T = \\lambda_1 y_1^2 + \\lambda_2 y_2^2 + \\dots + \\lambda_n y_n^2 > 0. $$\n",
    "\n",
    "As $y \\in \\mathbb{R}^n$ where $y ≠ 0$, I know that $\\lambda_i > 0 \\space \\forall \\space i\\in[1,n]$ for this to be fulfilled, thus proving that the two expressions are equivalent."
   ]
  },
  {
   "cell_type": "markdown",
   "metadata": {},
   "source": [
    "### b)"
   ]
  },
  {
   "cell_type": "markdown",
   "metadata": {},
   "source": [
    "Since $Q^TQ = I \\iff Q^T = Q^{-1}$ then \n",
    "\n",
    "$$A^{-1} = (Q\\Lambda Q^T)^{-1} = Q^{-1} \\Lambda^{-1} (Q^T)^{-1} = Q \\tilde{\\Lambda} Q^T, $$\n",
    "\n",
    "where $\\tilde{\\Lambda} = \\big(\\frac{1}{\\lambda_1}, \\frac{1}{\\lambda_2}, \\dots, \\frac{1}{\\lambda_n} \\big) > 0$. Thus, if $A$ is SPD then so is $A^{-1}$."
   ]
  },
  {
   "cell_type": "markdown",
   "metadata": {},
   "source": [
    "### c)"
   ]
  },
  {
   "cell_type": "markdown",
   "metadata": {},
   "source": [
    "I wish to prove that if $A\\in\\mathbb{R}^n$ and SPD, and $R(x)$ is the Rayleigh coefficient then $\\lambda_n \\leq R(x) \\leq \\lambda_1$. I start with the left-hand side of the equation.\n",
    "\n",
    "$$\n",
    "R(x) = \\frac{x^TAx}{x^Tx} = \\frac{x^TQ\\Lambda Q^Tx}{x^Tx} = \\frac{y\\Lambda y^T}{x^Tx} = \\frac{\\lambda_1y_1^2 + \\dots + \\lambda_ny_n^2}{x^Tx} \\geq \\lambda_n \\frac{yy^T}{x^Tx} = \\lambda_n \\frac{x^TQQ^Tx}{x^Tx} = \\lambda_n \\frac{x^Tx}{x^Tx} = \\lambda_n,\n",
    "$$\n",
    "\n",
    "where $y = x^TQ$ as before. Then for the right-hand side I have\n",
    "\n",
    "$$\n",
    "R(x) = \\frac{x^TAx}{x^Tx} = \\frac{x^TQ\\Lambda Q^Tx}{x^Tx} = \\frac{y\\Lambda y^T}{x^Tx} = \\frac{\\lambda_1y_1^2 + \\dots + \\lambda_ny_n^2}{x^Tx} \\leq \\lambda_1 \\frac{yy^T}{x^Tx} = \\lambda_1 \\frac{x^TQQ^Tx}{x^Tx} = \\lambda_1 \\frac{x^Tx}{x^Tx} = \\lambda_1.\n",
    "$$\n",
    "\n",
    "Thus, I can conclude that $\\lambda_n \\leq R(x) \\leq \\lambda_1$."
   ]
  },
  {
   "cell_type": "markdown",
   "metadata": {},
   "source": [
    "## Exercise 3"
   ]
  },
  {
   "cell_type": "markdown",
   "metadata": {},
   "source": [
    "First I wish to prove that \n",
    "\n",
    "$$ (I-P_j)(I-P_{j-1}) \\cdots (I-P_1) = I - P_j - P_{j-1} - \\dotso - P_1,$$\n",
    "\n",
    "where $P_i = v_iv_i^T$ are the orthogonal projections onto $\\text{span}\\{v_i\\}, \\space i=1,2,\\dots,m$. So\n",
    "\n",
    "$$\n",
    "(I-P_j)(I-P_{j-1}) \\cdots (I-P_1) = I^2-IP_{j-1}-P_jI+P_{j-1}P_j + \\dots = I - P_{j} - P_{j-1} + v_{j-1}v_{j-1}^Tv_jv_j^T + \\dots.\n",
    "$$\n",
    "\n",
    "But since $v_i^Tv_j=0\\space \\forall i≠j$, then this becomes \n",
    "\n",
    "$$ (I-P_j)(I-P_{j-1}) \\cdots (I-P_1) = I - P_j - P_{j-1} - \\dotso - P_1,$$\n",
    "\n",
    "which was what I wished to prove."
   ]
  },
  {
   "cell_type": "markdown",
   "metadata": {},
   "source": [
    "Now I want to show that the $j$'th iteration with Gram-Schmidt corresponds to \n",
    "\n",
    "$$w_j =  (I - P_j - P_{j-1} - \\dotso - P_1) Av_j,$$\n",
    "\n",
    "while modified Gram-Schmidt corresponds to \n",
    "\n",
    "$$w_j = (I-P_j)(I-P_{j-1}) \\cdots (I-P_1)Av_j.$$\n",
    "\n",
    "I begin by calculating $w_j$ for the classic Gram-Schmidt as given by Algorithm 6.1 in Saad (p.154).\n",
    "\n",
    "$$w_j = Av_j - \\sum_{i=1}^j h_{ij}v_i = Av_j - \\sum_{i=1}^j \\langle Av_j, v_i \\rangle v_i = Av_j - \\sum_{i=1}^j v_j^TA^Tv_iv_i = Av_j - \\sum_{i=1}^j v_iv_i^TAv_j = \\bigg(I - \\sum_{i=1}^j v_iv_i^T\\bigg)Av_j,$$\n",
    "\n",
    "so that is correct. Now for the modified Gram-Schmidt I use Algorithm 6.2 in Saad (p.156) to get\n",
    "\n",
    "$$\n",
    "\\begin{aligned}\n",
    "w_j^{(1)} &= w_j^{(0)} - h_{ij}v_i = Av_j - \\langle Av_j, v_i \\rangle v_i = Av_j - v_iv_i^TAv_j = (I-P_1)Av_j \\\\\n",
    "w_j^{(2)} &= w_j^{(1)} - h_{ij}v_i = (I-P_2)w_j^{(1)} = (I-P_2)(I-P_1)Av_j,\n",
    "\\end{aligned}\n",
    "$$\n",
    "\n",
    "and so on until I get\n",
    "\n",
    "$$w_j = (I-P_j)(I-P_{j-1}) \\cdots (I-P_1)Av_j.$$"
   ]
  },
  {
   "cell_type": "markdown",
   "metadata": {},
   "source": [
    "## Exercise 4"
   ]
  },
  {
   "cell_type": "markdown",
   "metadata": {},
   "source": []
  },
  {
   "cell_type": "markdown",
   "metadata": {},
   "source": [
    "## Exercise 5"
   ]
  },
  {
   "cell_type": "markdown",
   "metadata": {},
   "source": []
  },
  {
   "cell_type": "code",
   "execution_count": null,
   "metadata": {},
   "outputs": [],
   "source": []
  },
  {
   "cell_type": "markdown",
   "metadata": {},
   "source": []
  },
  {
   "cell_type": "code",
   "execution_count": null,
   "metadata": {},
   "outputs": [],
   "source": []
  },
  {
   "cell_type": "markdown",
   "metadata": {},
   "source": []
  }
 ],
 "metadata": {
  "kernelspec": {
   "display_name": "Python 3",
   "language": "python",
   "name": "python3"
  },
  "language_info": {
   "codemirror_mode": {
    "name": "ipython",
    "version": 3
   },
   "file_extension": ".py",
   "mimetype": "text/x-python",
   "name": "python",
   "nbconvert_exporter": "python",
   "pygments_lexer": "ipython3",
   "version": "3.7.1"
  }
 },
 "nbformat": 4,
 "nbformat_minor": 2
}
