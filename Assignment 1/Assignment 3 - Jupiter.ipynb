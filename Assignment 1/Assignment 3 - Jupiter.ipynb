{
 "cells": [
  {
   "cell_type": "markdown",
   "metadata": {},
   "source": [
    "# Assignment 3"
   ]
  },
  {
   "cell_type": "markdown",
   "metadata": {},
   "source": [
    "## Task 1"
   ]
  },
  {
   "cell_type": "markdown",
   "metadata": {},
   "source": [
    "I wish to solve the 2D Poisson equation \n",
    "\n",
    "$$\\nabla u = f(x,y) \\quad \\mathrm{for} \\quad 0<x,y<1 \\\\ u = 0 \\quad \\mathrm{on \\: the \\: boundary.} $$\n",
    "\n",
    "To do this, I start by taking use of the 5-point scheme\n",
    "\n",
    "$$ U_{i+1, j} + U_{i-1, j} + U_{i, j+1} + U_{i, j-1} - 4U_{i,j}= h^2 f_{i,j} $$\n",
    "\n",
    "which can be written as a system of equations $\\mathbf{A} \\mathbf{u} = h^2 \\mathbf{f}$. The $\\mathbf{A}$ matrix can be implemented as below."
   ]
  },
  {
   "cell_type": "code",
   "execution_count": 8,
   "metadata": {},
   "outputs": [
    {
     "name": "stdout",
     "output_type": "stream",
     "text": [
      "[[-4.  1. -0. -0.  1. -0. -0. -0. -0. -0. -0. -0. -0. -0. -0. -0.]\n",
      " [ 1. -4.  1. -0. -0.  1. -0. -0. -0. -0. -0. -0. -0. -0. -0. -0.]\n",
      " [-0.  1. -4.  1. -0. -0.  1. -0. -0. -0. -0. -0. -0. -0. -0. -0.]\n",
      " [-0. -0.  1. -4. -0. -0. -0.  1. -0. -0. -0. -0. -0. -0. -0. -0.]\n",
      " [ 1. -0. -0. -0. -4.  1. -0. -0.  1. -0. -0. -0. -0. -0. -0. -0.]\n",
      " [-0.  1. -0. -0.  1. -4.  1. -0. -0.  1. -0. -0. -0. -0. -0. -0.]\n",
      " [-0. -0.  1. -0. -0.  1. -4.  1. -0. -0.  1. -0. -0. -0. -0. -0.]\n",
      " [-0. -0. -0.  1. -0. -0.  1. -4. -0. -0. -0.  1. -0. -0. -0. -0.]\n",
      " [-0. -0. -0. -0.  1. -0. -0. -0. -4.  1. -0. -0.  1. -0. -0. -0.]\n",
      " [-0. -0. -0. -0. -0.  1. -0. -0.  1. -4.  1. -0. -0.  1. -0. -0.]\n",
      " [-0. -0. -0. -0. -0. -0.  1. -0. -0.  1. -4.  1. -0. -0.  1. -0.]\n",
      " [-0. -0. -0. -0. -0. -0. -0.  1. -0. -0.  1. -4. -0. -0. -0.  1.]\n",
      " [-0. -0. -0. -0. -0. -0. -0. -0.  1. -0. -0. -0. -4.  1. -0. -0.]\n",
      " [-0. -0. -0. -0. -0. -0. -0. -0. -0.  1. -0. -0.  1. -4.  1. -0.]\n",
      " [-0. -0. -0. -0. -0. -0. -0. -0. -0. -0.  1. -0. -0.  1. -4.  1.]\n",
      " [-0. -0. -0. -0. -0. -0. -0. -0. -0. -0. -0.  1. -0. -0.  1. -4.]]\n"
     ]
    }
   ],
   "source": [
    "import numpy as np\n",
    "import math\n",
    "\n",
    "def five_point(N):\n",
    "    u = np.eye(N**2)\n",
    "    Au = 4 * u\n",
    "\n",
    "    Au[:,:-N] = Au[:,:-N] - u[:,N:]\n",
    "    Au[:-N,:] = Au[:-N,:] - u[N:,:]\n",
    "\n",
    "    diag = np.ones(N)\n",
    "    diag[-1] = 0\n",
    "    np.fill_diagonal(u, diag)\n",
    "\n",
    "    Au[1:,:] = Au[1:,:] - u[:-1,:]\n",
    "\n",
    "    diag = np.ones(N)\n",
    "    diag[0] = 0\n",
    "    np.fill_diagonal(u, diag)\n",
    "\n",
    "    Au[:-1,:] = Au[:-1,:] - u[1:,:]\n",
    "\n",
    "    return -Au\n",
    "\n",
    "\n",
    "print(five_point(4))"
   ]
  },
  {
   "cell_type": "markdown",
   "metadata": {},
   "source": [
    "As seen above, the five-point stencil is a tridiagonal block matrix. The right-hand side of this scheme, $\\mathbf{f}$, is "
   ]
  },
  {
   "cell_type": "code",
   "execution_count": 4,
   "metadata": {},
   "outputs": [
    {
     "name": "stdout",
     "output_type": "stream",
     "text": [
      "[[0.         0.         0.         0.         0.        ]\n",
      " [0.         0.06245932 0.12467473 0.1864033  0.        ]\n",
      " [0.         0.12467473 0.24740396 0.36627253 0.        ]\n",
      " [0.         0.1864033  0.36627253 0.53330267 0.        ]\n",
      " [0.         0.         0.         0.         0.        ]]\n"
     ]
    }
   ],
   "source": [
    "def calc_rhs(N):\n",
    "    N2 = N**2\n",
    "\n",
    "    p = np.zeros((N2, 2))\n",
    "    for i in range(1, N2):\n",
    "        p[i, 0] = (i % N)/(N-1)\n",
    "        p[i, 1] = math.floor(i/N)/(N-1)\n",
    "\n",
    "    f = lambda x,y: math.sin(x*y)\n",
    "\n",
    "    b = np.zeros(N2)\n",
    "    for i in range(N2):\n",
    "        b[i] = f(p[i,0], p[i,1])\n",
    "\n",
    "    # Boundary conditions\n",
    "    b[0:N] = 0                  # y=0\n",
    "    b[N2-N:N2] = 0              # y=1\n",
    "    b[0:N2:N] = 0               # x=0\n",
    "    b[N-1:N2:N] = 0             # x=1\n",
    "\n",
    "    b = np.reshape(b, (N, N))\n",
    "    return b\n",
    "\n",
    "N = 5\n",
    "print(rhs(N))"
   ]
  },
  {
   "cell_type": "markdown",
   "metadata": {},
   "source": [
    "as the given boundary conditions are 0. I wish to solve this system of equations with a V-cycle multigrid method, so I start by implementing a weighted Jacobi method. This iterative method takes the form\n",
    "\n",
    "$$u_{j+1} = [(1-\\omega)I + \\omega D^{-1}(D-A)]u_j + \\omega D^{-1} f = J_{\\omega} u_j + f_{\\omega}.$$\n",
    "\n",
    "Since for the five-point method the diagonal matrix will be $D = \\frac{1}{4}I$, I can rewrite $J_{\\omega}$ as\n",
    "\n",
    "$$ J_\\omega = I - \\frac{1}{4} \\omega A,$$\n",
    "\n",
    "and the implementation can be done as such"
   ]
  },
  {
   "cell_type": "code",
   "execution_count": 6,
   "metadata": {},
   "outputs": [],
   "source": [
    "def jacobi(u0, rhs, w, nu):\n",
    "    \"\"\"\n",
    "    u0: Initial guess\n",
    "    rhs: Right-hand side, f\n",
    "    w: Weights\n",
    "    nu: Number of presmoothings\n",
    "    \"\"\"\n",
    "    # Initializing variables\n",
    "    N2 = u0.shape[0]\n",
    "    N = int(np.sqrt(N2))\n",
    "    nu = nu + 1\n",
    "\n",
    "    I = np.eye(N2)\n",
    "    A = five_point(N)\n",
    "    Jw = I - 1/4 * w * A\n",
    "\n",
    "    # Calculating the weighted Jacobi iteration\n",
    "    u = Jw.dot(u0) + w * 1/4 * I * rhs\n",
    "\n",
    "    return u, nu"
   ]
  },
  {
   "cell_type": "markdown",
   "metadata": {},
   "source": [
    "$$ \\nabla^2 = u $$"
   ]
  },
  {
   "cell_type": "code",
   "execution_count": null,
   "metadata": {},
   "outputs": [],
   "source": []
  }
 ],
 "metadata": {
  "kernelspec": {
   "display_name": "Python 3",
   "language": "python",
   "name": "python3"
  },
  "language_info": {
   "codemirror_mode": {
    "name": "ipython",
    "version": 3
   },
   "file_extension": ".py",
   "mimetype": "text/x-python",
   "name": "python",
   "nbconvert_exporter": "python",
   "pygments_lexer": "ipython3",
   "version": "3.7.1"
  }
 },
 "nbformat": 4,
 "nbformat_minor": 2
}
